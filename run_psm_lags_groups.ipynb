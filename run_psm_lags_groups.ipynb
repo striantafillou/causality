{
 "cells": [
  {
   "cell_type": "code",
   "execution_count": 2,
   "metadata": {
    "collapsed": false,
    "scrolled": true
   },
   "outputs": [
    {
     "ename": "IOError",
     "evalue": "[Errno 2] No such file or directory: '../CS120/Assessment/assessment.dat'",
     "output_type": "error",
     "traceback": [
      "\u001b[1;31m---------------------------------------------------------------------------\u001b[0m",
      "\u001b[1;31mIOError\u001b[0m                                   Traceback (most recent call last)",
      "\u001b[1;32m<ipython-input-2-92a3598aa901>\u001b[0m in \u001b[0;36m<module>\u001b[1;34m()\u001b[0m\n\u001b[0;32m     11\u001b[0m \u001b[1;33m\u001b[0m\u001b[0m\n\u001b[0;32m     12\u001b[0m \u001b[1;31m# read assessments\u001b[0m\u001b[1;33m\u001b[0m\u001b[1;33m\u001b[0m\u001b[0m\n\u001b[1;32m---> 13\u001b[1;33m \u001b[1;32mwith\u001b[0m \u001b[0mopen\u001b[0m\u001b[1;33m(\u001b[0m\u001b[1;34m'../CS120/Assessment/assessment.dat'\u001b[0m\u001b[1;33m,\u001b[0m \u001b[1;34m'rb'\u001b[0m\u001b[1;33m)\u001b[0m \u001b[1;32mas\u001b[0m \u001b[0mf\u001b[0m\u001b[1;33m:\u001b[0m\u001b[1;33m\u001b[0m\u001b[0m\n\u001b[0m\u001b[0;32m     14\u001b[0m     \u001b[0mass\u001b[0m \u001b[1;33m=\u001b[0m \u001b[0mpickle\u001b[0m\u001b[1;33m.\u001b[0m\u001b[0mload\u001b[0m\u001b[1;33m(\u001b[0m\u001b[0mf\u001b[0m\u001b[1;33m)\u001b[0m\u001b[1;33m\u001b[0m\u001b[0m\n\u001b[0;32m     15\u001b[0m \u001b[0mf\u001b[0m\u001b[1;33m.\u001b[0m\u001b[0mclose\u001b[0m\u001b[1;33m(\u001b[0m\u001b[1;33m)\u001b[0m\u001b[1;33m\u001b[0m\u001b[0m\n",
      "\u001b[1;31mIOError\u001b[0m: [Errno 2] No such file or directory: '../CS120/Assessment/assessment.dat'"
     ]
    }
   ],
   "source": [
    "import pickle\n",
    "import pandas as pd\n",
    "import numpy as np\n",
    "from psm_causal_effects import psm_causal_effects\n",
    "from extract_remove_nans import extract_remove_nans\n",
    "\n",
    "# read data\n",
    "with open('data.dat','rb') as f:\n",
    "    data, subjects = pickle.load(f)\n",
    "f.close()\n",
    "\n",
    "# read assessments\n",
    "with open('../CS120/Assessment/assessment.dat', 'rb') as f:\n",
    "    ass = pickle.load(f)\n",
    "f.close()\n",
    "\n",
    "# defining groups based on screening data (week 0)\n",
    "groups = ['depressed&anxious','anxious','depressed','control']\n",
    "indg = [np.array([],dtype=int) for i in range(4)]\n",
    "for i in range(len(data)):\n",
    "    ind = np.where(subjects[i]==ass['ID'])[0][0]\n",
    "    if ind:\n",
    "        if ass.loc[ind,'PHQ9 W0']>=10 and ass.loc[ind,'GAD7 W0']>=10:\n",
    "            indg[0] = np.append(indg[0], i)\n",
    "        elif ass.loc[ind,'PHQ9 W0']<10 and ass.loc[ind, 'GAD7 W0']>=10:\n",
    "            indg[1] = np.append(indg[1], i)\n",
    "        elif ass.loc[ind, 'PHQ9 W0']>=10 and ass.loc[ind,'GAD7 W0']<10:\n",
    "            indg[2] = np.append(indg[2], i)\n",
    "        elif ass.loc[ind, 'PHQ9 W0']<10 and ass.loc[ind,'GAD7 W0']<10:\n",
    "            indg[3] = np.append(indg[3], i)\n",
    "        else:\n",
    "            print('ERROR')\n",
    "\n",
    "n_boot = 100\n",
    "scorefunction = 'replacement'\n",
    "output = 'difference'\n",
    "var_threshold = 0.5\n",
    "\n",
    "es_m2s_mean = np.zeros([n_boot,4])\n",
    "es_s2m_mean = np.zeros([n_boot,4])\n",
    "es_s2m_um_mean = np.zeros([n_boot,4])\n",
    "es_m2s_um_mean = np.zeros([n_boot,4])\n",
    "    \n",
    "for g in range(len(groups)):\n",
    "    \n",
    "    print(groups[g]+':')\n",
    "\n",
    "    for k in range(n_boot):\n",
    "\n",
    "        print (k),\n",
    "\n",
    "        inds = np.random.choice(indg[g], size=indg[g].size, replace=True)\n",
    "\n",
    "        es_s2m = np.zeros([indg[g].size,1])\n",
    "        es_m2s = np.zeros([indg[g].size,1])\n",
    "        es_s2m_um = np.zeros([indg[g].size,1])\n",
    "        es_m2s_um = np.zeros([indg[g].size,1])\n",
    "\n",
    "        for (c,i) in enumerate(inds):\n",
    "\n",
    "            if np.nanstd(data[i]['mood'])<var_threshold or np.nanstd(data[i]['quality'])<var_threshold:\n",
    "                print('skipping subject '+str(i)+' due to low variance in mood or sleep quality.')\n",
    "                es_m2s_um[c] = np.nan\n",
    "                es_m2s[c] = np.nan\n",
    "                es_s2m_um[c] = np.nan\n",
    "                es_s2m[c] = np.nan\n",
    "                continue\n",
    "\n",
    "            # mood on sleep - lag 0 - unmatched\n",
    "            treatment = 'mood_prev'\n",
    "            outcome = 'quality'\n",
    "            data_s = extract_remove_nans(data[i], [treatment]+[outcome])\n",
    "            es_m2s_um[c] = psm_causal_effects(treatment=data_s[treatment], outcome=data_s[outcome], confound=[], scorefun='unmatched', output=output)\n",
    "\n",
    "            # mood on sleep - lag 1\n",
    "            confound = ['dow', 'mean_temp_prev2', 'clear_prev2', 'act_prev2','daytype','stress_prev2','energy_prev2','focus_prev2','mood_prev2','quality_prev']\n",
    "            data_s = extract_remove_nans(data[i], [treatment]+[outcome]+confound)\n",
    "            es_m2s[c] = psm_causal_effects(treatment=data_s[treatment], outcome=data_s[outcome], confound=data_s[confound], scorefun=scorefunction, output=output)\n",
    "\n",
    "            ################ sleep on mood\n",
    "\n",
    "            # sleep on mood - lag 0 - unmatched\n",
    "            treatment = 'quality'\n",
    "            outcome = 'mood'\n",
    "            data_s = extract_remove_nans(data[i], [treatment]+[outcome])\n",
    "            es_s2m_um[c] = psm_causal_effects(treatment=data_s[treatment], outcome=data_s[outcome], confound=[], scorefun='unmatched', output=output)\n",
    "\n",
    "            # sleep on mood - lag 1\n",
    "            confound = ['dow', 'mean_temp_prev', 'clear_prev','act_prev','daytype','stress_prev','energy_prev','focus_prev','mood_prev','quality_prev']\n",
    "            data_s = extract_remove_nans(data[i], [treatment]+[outcome]+confound)\n",
    "            es_s2m[c] = psm_causal_effects(treatment=data_s[treatment], outcome=data_s[outcome], confound=data_s[confound], scorefun=scorefunction, output=output)\n",
    "\n",
    "        es_m2s_mean[k,g] = np.nanmean(es_m2s, axis=0)\n",
    "        es_s2m_mean[k,g] = np.nanmean(es_s2m, axis=0)\n",
    "        es_m2s_um_mean[k,g] = np.nanmean(es_m2s_um, axis=0)\n",
    "        es_s2m_um_mean[k,g] = np.nanmean(es_s2m_um, axis=0)\n",
    "\n"
   ]
  },
  {
   "cell_type": "code",
   "execution_count": null,
   "metadata": {
    "collapsed": false
   },
   "outputs": [],
   "source": [
    "print(groups)\n",
    "print(np.mean(es_s2m_mean,axis=0))\n",
    "# print(np.mean(es_m2s_mean,axis=0))\n",
    "print(np.mean(es_s2m_um_mean,axis=0))\n",
    "# print(np.mean(es_m2s_um_mean,axis=0))"
   ]
  },
  {
   "cell_type": "markdown",
   "metadata": {},
   "source": [
    "## Group Difference"
   ]
  },
  {
   "cell_type": "code",
   "execution_count": null,
   "metadata": {
    "collapsed": false
   },
   "outputs": [],
   "source": [
    "from scipy.stats import f_oneway\n",
    "f,p = f_oneway(es_m2s_um_mean[:,0],es_m2s_um_mean[:,1],es_m2s_um_mean[:,2],es_m2s_um_mean[:,3])\n",
    "print('F,P = ',f,p)\n",
    "f,p = f_oneway(es_s2m_um_mean[:,0],es_s2m_um_mean[:,1],es_s2m_um_mean[:,2],es_s2m_um_mean[:,3])\n",
    "print('F,P = ',f,p)\n",
    "f,p = f_oneway(es_m2s_mean[:,0],es_m2s_mean[:,1],es_m2s_mean[:,2],es_m2s_mean[:,3])\n",
    "print('F,P = ',f,p)\n",
    "f,p = f_oneway(es_s2m_mean[:,0],es_s2m_mean[:,1],es_s2m_mean[:,2],es_s2m_mean[:,3])\n",
    "print('F,P = ',f,p)"
   ]
  },
  {
   "cell_type": "code",
   "execution_count": null,
   "metadata": {
    "collapsed": false
   },
   "outputs": [],
   "source": [
    "import scipy.stats as sp\n",
    "\n",
    "t, p = sp.ttest_ind(es_m2s_um_mean[:,0],es_m2s_um_mean[:,1])"
   ]
  },
  {
   "cell_type": "code",
   "execution_count": null,
   "metadata": {
    "collapsed": false,
    "scrolled": false
   },
   "outputs": [],
   "source": [
    "import matplotlib.pyplot as plt\n",
    "%matplotlib inline\n",
    "\n",
    "plt.figure(figsize=(10,6))\n",
    "yerrs = np.array([[np.mean(es_m2s_um_mean[:,0])-np.percentile(es_m2s_um_mean[:,0],2.5),\\\n",
    "                   np.mean(es_m2s_um_mean[:,1])-np.percentile(es_m2s_um_mean[:,1],2.5),\\\n",
    "                   np.mean(es_m2s_um_mean[:,2])-np.percentile(es_m2s_um_mean[:,2],2.5),\\\n",
    "                   np.mean(es_m2s_um_mean[:,3])-np.percentile(es_m2s_um_mean[:,3],2.5),\\\n",
    "                   np.mean(es_m2s_mean[:,0])-np.percentile(es_m2s_mean[:,0],2.5),\\\n",
    "                   np.mean(es_m2s_mean[:,1])-np.percentile(es_m2s_mean[:,1],2.5),\\\n",
    "                   np.mean(es_m2s_mean[:,2])-np.percentile(es_m2s_mean[:,2],2.5),\\\n",
    "                   np.mean(es_m2s_mean[:,3])-np.percentile(es_m2s_mean[:,3],2.5)],\\\n",
    "    [-np.mean(es_m2s_um_mean[:,0])+np.percentile(es_m2s_um_mean[:,0],97.5),\\\n",
    "                   -np.mean(es_m2s_um_mean[:,1])+np.percentile(es_m2s_um_mean[:,1],97.5),\\\n",
    "                   -np.mean(es_m2s_um_mean[:,2])+np.percentile(es_m2s_um_mean[:,2],97.5),\\\n",
    "                   -np.mean(es_m2s_um_mean[:,3])+np.percentile(es_m2s_um_mean[:,3],97.5),\\\n",
    "                   -np.mean(es_m2s_mean[:,0])+np.percentile(es_m2s_mean[:,0],97.5),\\\n",
    "                   -np.mean(es_m2s_mean[:,1])+np.percentile(es_m2s_mean[:,1],97.5),\\\n",
    "                   -np.mean(es_m2s_mean[:,2])+np.percentile(es_m2s_mean[:,2],97.5),\\\n",
    "                   -np.mean(es_m2s_mean[:,3])+np.percentile(es_m2s_mean[:,3],97.5)]])\n",
    "plt.bar([-4.75,-3.75,-2.75,-1.75,1.75,2.75,3.75,4.75],np.concatenate([np.mean(es_m2s_um_mean,axis=0),np.mean(es_m2s_mean,axis=0)],\\\n",
    "                                 axis=0).reshape([8,1]),yerr=yerrs, ecolor=(0,0,0),width=.25,color=(.5,.5,.8))\n",
    "yerrs = np.array([[np.mean(es_s2m_um_mean[:,0])-np.percentile(es_s2m_um_mean[:,0],2.5),\\\n",
    "                   np.mean(es_s2m_um_mean[:,1])-np.percentile(es_s2m_um_mean[:,1],2.5),\\\n",
    "                   np.mean(es_s2m_um_mean[:,2])-np.percentile(es_s2m_um_mean[:,2],2.5),\\\n",
    "                   np.mean(es_s2m_um_mean[:,3])-np.percentile(es_s2m_um_mean[:,3],2.5),\\\n",
    "                   np.mean(es_s2m_mean[:,0])-np.percentile(es_s2m_mean[:,0],2.5),\\\n",
    "                   np.mean(es_s2m_mean[:,1])-np.percentile(es_s2m_mean[:,1],2.5),\\\n",
    "                   np.mean(es_s2m_mean[:,2])-np.percentile(es_s2m_mean[:,2],2.5),\\\n",
    "                   np.mean(es_s2m_mean[:,3])-np.percentile(es_s2m_mean[:,3],2.5)],\\\n",
    "    [-np.mean(es_s2m_um_mean[:,0])+np.percentile(es_s2m_um_mean[:,0],97.5),\\\n",
    "                   -np.mean(es_s2m_um_mean[:,1])+np.percentile(es_s2m_um_mean[:,1],97.5),\\\n",
    "                   -np.mean(es_s2m_um_mean[:,2])+np.percentile(es_s2m_um_mean[:,2],97.5),\\\n",
    "                   -np.mean(es_s2m_um_mean[:,3])+np.percentile(es_s2m_um_mean[:,3],97.5),\\\n",
    "                   -np.mean(es_s2m_mean[:,0])+np.percentile(es_s2m_mean[:,0],97.5),\\\n",
    "                   -np.mean(es_s2m_mean[:,1])+np.percentile(es_s2m_mean[:,1],97.5),\\\n",
    "                   -np.mean(es_s2m_mean[:,2])+np.percentile(es_s2m_mean[:,2],97.5),\\\n",
    "                   -np.mean(es_s2m_mean[:,3])+np.percentile(es_s2m_mean[:,3],97.5)]])\n",
    "plt.bar([-4.5,-3.5,-2.5,-1.5,2,3,4,5],np.concatenate([np.mean(es_s2m_um_mean,axis=0),np.mean(es_s2m_mean,axis=0)],\\\n",
    "                                 axis=0).reshape([8,1]),yerr=yerrs, ecolor=(0,0,0),width=.25,color=(.5,.8,.5))\n",
    "\n",
    "# plt.text(-.2, .75, '***', fontsize=14)\n",
    "# plt.text(1.8, .70, '***', fontsize=14)\n",
    "# plt.text(2.8, .72, '***', fontsize=14)\n",
    "# plt.text(3.8, .74, '***', fontsize=14)\n",
    "# plt.text(4.8, .84, '***', fontsize=14)\n",
    "a = plt.ylim([0,1])\n",
    "# plt.xlim([-.5,5.5])\n",
    "plt.xticks([-4.5,-3.5,-2.5,-1.5,2,3,4,5],groups*2, rotation=90, fontsize=12);\n",
    "\n",
    "plt.ylabel('Mean Personal Causal Effect',fontsize=18)\n",
    "# plt.xlabel('lags 0 to T',fontsize=18)\n",
    "plt.legend(['Mood on Sleep Quality','Sleep Quality on Mood'],loc='upper right',bbox_to_anchor=(.5, 1), fontsize=14);\n",
    "plt.plot([0,0],[a[0],a[1]],'--',color=(0,0,0))"
   ]
  },
  {
   "cell_type": "markdown",
   "metadata": {},
   "source": [
    "## Linear Output"
   ]
  },
  {
   "cell_type": "code",
   "execution_count": null,
   "metadata": {
    "collapsed": true
   },
   "outputs": [],
   "source": [
    "import matplotlib.pyplot as plt\n",
    "%matplotlib inline\n",
    "\n",
    "plt.figure(figsize=(6,5))\n",
    "yerrs = np.array([[np.mean(es_m2s_um_mean)-np.percentile(es_m2s_um_mean,2.5),np.mean(es_m2s_mean[:,0])-np.percentile(es_m2s_mean[:,0],2.5),\\\n",
    "    np.mean(es_m2s_mean[:,1])-np.percentile(es_m2s_mean[:,1],2.5),np.mean(es_m2s_mean[:,2])-np.percentile(es_m2s_mean[:,2],2.5),\\\n",
    "    np.mean(es_m2s_mean[:,3])-np.percentile(es_m2s_mean[:,3],2.5)],\\\n",
    "    [np.percentile(es_m2s_um_mean,97.5)-np.mean(es_m2s_um_mean),np.percentile(es_m2s_mean[:,0],97.5)-np.mean(es_m2s_mean[:,0]),\\\n",
    "    np.percentile(es_m2s_mean[:,1],97.5)-np.mean(es_m2s_mean[:,1]),np.percentile(es_m2s_mean[:,2],97.5)-np.mean(es_m2s_mean[:,2]),\\\n",
    "    np.percentile(es_m2s_mean[:,3],97.5)-np.mean(es_m2s_mean[:,3])]])\n",
    "plt.bar([-.25,1.75,2.75,3.75,4.75],np.concatenate([np.array([np.mean(es_m2s_um_mean)]),np.mean(es_m2s_mean,axis=0)],axis=0).reshape([5,1]),yerr=yerrs,\\\n",
    "    ecolor=(0,0,0),width=.25,color=(.5,.5,.8))\n",
    "yerrs = np.array([[np.mean(es_s2m_um_mean)-np.percentile(es_s2m_um_mean,2.5),np.mean(es_s2m_mean[:,0])-np.percentile(es_s2m_mean[:,0],2.5),\\\n",
    "    np.mean(es_s2m_mean[:,1])-np.percentile(es_s2m_mean[:,1],2.5),np.mean(es_s2m_mean[:,2])-np.percentile(es_s2m_mean[:,2],2.5),\\\n",
    "    np.mean(es_s2m_mean[:,3])-np.percentile(es_s2m_mean[:,3],2.5)],\\\n",
    "    [np.percentile(es_s2m_um_mean,97.5)-np.mean(es_s2m_um_mean),np.percentile(es_s2m_mean[:,0],97.5)-np.mean(es_s2m_mean[:,0]),\\\n",
    "    np.percentile(es_s2m_mean[:,1],97.5)-np.mean(es_s2m_mean[:,1]),np.percentile(es_s2m_mean[:,2],97.5)-np.mean(es_s2m_mean[:,2]),\\\n",
    "    np.percentile(es_s2m_mean[:,3],97.5)-np.mean(es_s2m_mean[:,3])]])\n",
    "plt.bar([0,2,3,4,5],np.concatenate([np.array([np.mean(es_s2m_um_mean)]),np.mean(es_s2m_mean,axis=0)],axis=0).reshape([5,1]),yerr=yerrs,\\\n",
    "    ecolor=(0,0,0),width=.25,color=(.5,.8,.5))\n",
    "a = plt.ylim([-.1,1])\n",
    "plt.xlim([-.5,5.5])\n",
    "plt.xticks([0,2,3,4,5],['unmatched', 'T=0','T=1','T=2','T=3'],rotation=0);\n",
    "plt.ylabel('Mean Personal Slope',fontsize=14)\n",
    "plt.xlabel('lags 0 to T',fontsize=14)\n",
    "plt.legend(['Mood on Sleep Quality','Sleep Quality on Mood'],loc='upper right',bbox_to_anchor=(1, 1), fontsize=10);\n",
    "plt.plot([1,1],[a[0],a[1]],'--',color=(0,0,0))\n",
    "plt.plot([-.5,5.5],[0,0],':',color=(0,0,0))"
   ]
  },
  {
   "cell_type": "code",
   "execution_count": null,
   "metadata": {
    "collapsed": true
   },
   "outputs": [],
   "source": [
    "es_m2s_mean.shape"
   ]
  }
 ],
 "metadata": {
  "anaconda-cloud": {},
  "kernelspec": {
   "display_name": "Python [Root]",
   "language": "python",
   "name": "Python [Root]"
  },
  "language_info": {
   "codemirror_mode": {
    "name": "ipython",
    "version": 2
   },
   "file_extension": ".py",
   "mimetype": "text/x-python",
   "name": "python",
   "nbconvert_exporter": "python",
   "pygments_lexer": "ipython2",
   "version": "2.7.12"
  }
 },
 "nbformat": 4,
 "nbformat_minor": 1
}
