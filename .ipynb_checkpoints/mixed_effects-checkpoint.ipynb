{
 "cells": [
  {
   "cell_type": "code",
   "execution_count": 2,
   "metadata": {
    "collapsed": false,
    "scrolled": true
   },
   "outputs": [],
   "source": [
    "import statsmodels.api as sm \n",
    "import statsmodels.formula.api as smf\n",
    "import pickle\n",
    "import pandas as pd\n",
    "import numpy as np\n",
    "from psm_causal_effects import psm_causal_effects\n",
    "\n",
    "# read data\n",
    "with open('data.dat') as f:\n",
    "    data, subjects = pickle.load(f)\n",
    "f.close()\n",
    "\n",
    "# adding subject ids\n",
    "for i in range(len(data)):\n",
    "    data[i]['subject'] = pd.Series(np.repeat(subjects[i],data[i].shape[0],axis=0), index=data[i].index, dtype=str)\n",
    "\n",
    "del subjects\n",
    "\n",
    "# concatenatig into a single dataframe\n",
    "data_all = pd.concat(data, axis=0)\n",
    "data_all = data_all.reset_index(drop=True)\n",
    "\n",
    "# keeping only relevant variables\n",
    "data_all = data_all[['subject','mood','quality','mood_prev','quality_prev','stress_prev','act_prev','daytype','mean_temp','dow']]\n",
    "\n",
    "# removing nan rows\n",
    "data_all = data_all.dropna()\n",
    "data_all = data_all.reset_index(drop=True)\n",
    "\n",
    "# load assessments\n",
    "with open('../CS120/Assessment/assessment.dat') as f:\n",
    "    ass = pickle.load(f)\n",
    "f.close()"
   ]
  },
  {
   "cell_type": "code",
   "execution_count": 3,
   "metadata": {
    "collapsed": false,
    "scrolled": true
   },
   "outputs": [],
   "source": [
    "# calculating personal model parameters\n",
    "\n",
    "betas_m2s = np.zeros([len(data),2])\n",
    "betas_s2m = np.zeros([len(data),2])\n",
    "for iSubj in range(len(data)):\n",
    "    if data[iSubj].shape[0] ==0:\n",
    "        betas_m2s[iSubj, :] = np.array([np.nan, np.nan])\n",
    "        betas_s2m[iSubj, :] = np.array([np.nan, np.nan])\n",
    "    else:\n",
    "        md = smf.glm('quality ~ mood_prev', data[iSubj])\n",
    "        mdf = md.fit()\n",
    "        betas_m2s[iSubj, :] = mdf.params\n",
    "        md = smf.glm('mood ~ quality', data[iSubj])\n",
    "        mdf = md.fit()\n",
    "        betas_s2m[iSubj, :] = mdf.params"
   ]
  },
  {
   "cell_type": "code",
   "execution_count": null,
   "metadata": {
    "collapsed": false,
    "scrolled": false
   },
   "outputs": [],
   "source": [
    "# global + personal\n",
    "\n",
    "md = smf.glm('quality ~ mood_prev', data_all)\n",
    "mdf = md.fit()\n",
    "print mdf.summary()\n",
    "\n",
    "plt.figure(figsize=[5,5])\n",
    "for iSubj in range(len(data)):\n",
    "    plt.plot([0,8], [betas_m2s[iSubj, 0],betas_m2s[iSubj,0]+betas_m2s[iSubj,1]*8], linewidth=.3, alpha=.5)\n",
    "plt.plot([0,8], [mdf.params[0],mdf.params[0]+mdf.params[1]*8], color=(.2, .2,.2), linewidth=3)\n",
    "plt.plot(data_all['mood_prev']+0.075*np.random.randn(data_all.shape[0]),data_all['quality']+0.2*np.random.randn(data_all.shape[0]),'.',markersize=2,\\\n",
    "        color=(0,0,0),alpha=.5)\n",
    "plt.xlabel('Mood')\n",
    "plt.ylabel('Sleep Quality')\n",
    "plt.xlim([0,8])\n",
    "plt.ylim([0,8])\n",
    "# plt.box()\n"
   ]
  },
  {
   "cell_type": "code",
   "execution_count": null,
   "metadata": {
    "collapsed": false,
    "scrolled": false
   },
   "outputs": [],
   "source": [
    "# global + personal\n",
    "\n",
    "md = smf.glm('mood ~ quality', data_all)\n",
    "mdf = md.fit()\n",
    "print mdf.summary()\n",
    "\n",
    "plt.figure(figsize=[5,5])\n",
    "for iSubj in range(len(data)):\n",
    "    plt.plot([0,8], [betas_s2m[iSubj, 0],betas_s2m[iSubj,0]+betas_s2m[iSubj,1]*8], linewidth=.3, alpha=.5)\n",
    "plt.plot([0,8], [mdf.params[0],mdf.params[0]+mdf.params[1]*8], color=(.2,.2,.2), linewidth=3)\n",
    "plt.plot(data_all['quality']+0.2*np.random.randn(data_all.shape[0]),data_all['mood']+0.075*np.random.randn(data_all.shape[0]),'.',markersize=2,\\\n",
    "        color=(0,0,0),alpha=.5)\n",
    "plt.xlabel('Sleep Quality')\n",
    "plt.ylabel('Mood')\n",
    "plt.xlim([0,8])\n",
    "plt.ylim([0,8])\n",
    "\n"
   ]
  },
  {
   "cell_type": "code",
   "execution_count": 11,
   "metadata": {
    "collapsed": false
   },
   "outputs": [
    {
     "data": {
      "image/png": "[encoded data removed]",
      "text/plain": [
       "<matplotlib.figure.Figure at 0x7f7fde8e4410>"
      ]
     },
     "metadata": {},
     "output_type": "display_data"
    }
   ],
   "source": [
    "from psm_causal_effects import psm_causal_effects\n",
    "import matplotlib.pyplot as plt\n",
    "%matplotlib inline\n",
    "\n",
    "np.random.seed(seed=1)\n",
    "\n",
    "noise_amp_mood = 0.05#0.075\n",
    "noise_amp_quality = 0.15#0.2\n",
    "\n",
    "ind1 = 49#6\n",
    "ind2 = 149#100\n",
    "\n",
    "# removing nan rows\n",
    "data1 = data[ind1].dropna()\n",
    "data1 = data1.reset_index(drop=True)\n",
    "data2 = data[ind2].dropna()\n",
    "data2 = data2.reset_index(drop=True)\n",
    "\n",
    "plt.figure(figsize=[5,5])\n",
    "plt.plot([0,8], [betas_s2m[ind1, 0]+betas_s2m[ind1,1]*3,betas_s2m[ind1,0]+betas_s2m[ind1,1]*8], linewidth=1, alpha=1, color=(0,0,1), linestyle='-')\n",
    "plt.plot([0,8], [betas_s2m[ind2, 0]+betas_s2m[ind2,1]*1,betas_s2m[ind2,0]+betas_s2m[ind2,1]*5], linewidth=1, alpha=1, color=(1,0,0), linestyle='-')\n",
    "\n",
    "data_p  = pd.concat([data1, data2],axis=0)\n",
    "data_p = data_p[['subject','mood','quality']]\n",
    "\n",
    "#pooled regression\n",
    "md = smf.glm('mood ~ quality', data_p)\n",
    "mdf = md.fit()\n",
    "plt.plot([0,8], [mdf.params[0],mdf.params[0]+mdf.params[1]*8], color=(.2,.2,.2), linewidth=1, linestyle='-')\n",
    "\n",
    "#mixed linear models regression\n",
    "md = smf.mixedlm('mood ~ quality', data_p, groups=data_p['subject'], re_formula=\"~quality\")\n",
    "mdf = md.fit() \n",
    "plt.plot([0,8], [mdf.params[0],mdf.params[0]+mdf.params[1]*8], color=(.2,.2,.2), linewidth=2, linestyle='--')\n",
    "\n",
    "#psm\n",
    "# score1, ind_t1, ind_c1 = psm_causal_effects(treatment=data1['quality'], outcome=data1['mood'], confound=data1[['mood_prev','stress_prev','daytype','dow','act_prev','quality_prev','mean_temp']], scorefun='replacement', output='difference', return_indices=True)\n",
    "# score2, ind_t2, ind_c2 = psm_causal_effects(treatment=data2['quality'], outcome=data2['mood'], confound=data2[['mood_prev','stress_prev','daytype','dow','act_prev','quality_prev','mean_temp']], scorefun='replacement', output='difference', return_indices=True)\n",
    "\n",
    "plt.xlabel('Sleep Quality')\n",
    "plt.ylabel('Next-day Mood')\n",
    "plt.xlim([0,8])\n",
    "plt.ylim([0,8])\n",
    "\n",
    "plt.legend(['subject 1','subject 2','pooled','mixed'],bbox_to_anchor=(1.4, 1))\n",
    "\n",
    "#noise vectors\n",
    "n_quality_1 = noise_amp_quality*np.random.randn(data1.shape[0])\n",
    "n_quality_2 = noise_amp_quality*np.random.randn(data2.shape[0])\n",
    "n_mood_1 = noise_amp_mood*np.random.randn(data1.shape[0])\n",
    "n_mood_2 = noise_amp_mood*np.random.randn(data2.shape[0])\n",
    "\n",
    "plt.plot(data1['quality']+n_quality_1,data1['mood']+n_mood_1,'.',markersize=5,\\\n",
    "        markeredgecolor =(0,0,1),alpha=.75,markerfacecolor=(0,0,1))\n",
    "# plt.plot(data1['quality'][ind_t1]+n_quality_1,data1['mood'][ind_t1]+n_mood_1,'o',markersize=5,\\\n",
    "#         markeredgecolor =(0,0,1),alpha=.75,markerfacecolor=(1,1,1))\n",
    "# plt.plot(data1['quality'][ind_c1]+n_quality_1,data1['mood'][ind_c1]+n_mood_1,'x',markersize=5,\\\n",
    "#         markeredgecolor =(0,0,1),alpha=.75,markerfacecolor=(0,0,1))\n",
    "# plt.plot([7,7.5],[np.mean(data1['mood'][ind_t1]),np.mean(data1['mood'][ind_t1])],color=(0,0,1),linewidth=3)\n",
    "# plt.plot([5,5.5],[np.mean(data1['mood'][ind_c1]),np.mean(data1['mood'][ind_c1])],color=(0,0,1),linewidth=3)\n",
    "\n",
    "plt.plot(data2['quality']+n_quality_2,data2['mood']+n_mood_2,'.',markersize=5,\\\n",
    "        markeredgecolor =(1,0,0),alpha=.75,markerfacecolor=(1,0,0))\n",
    "# plt.plot(data2['quality'][ind_t2]+n_quality_2,data2['mood'][ind_t2]+n_mood_2,'o',markersize=5,\\\n",
    "#         markeredgecolor =(1,0,0),alpha=.75,markerfacecolor=(1,1,1))\n",
    "# plt.plot(data2['quality'][ind_c2]+n_quality_2,data2['mood'][ind_c2]+n_mood_2,'x',markersize=5,\\\n",
    "#         markeredgecolor =(1,0,0),alpha=.75,markerfacecolor=(1,0,0))\n",
    "# plt.plot([4,4.5],[np.mean(data2['mood'][ind_t2]),np.mean(data2['mood'][ind_t2])],color=(1,0,0),linewidth=3)\n",
    "# plt.plot([2.5,3],[np.mean(data2['mood'][ind_c2]),np.mean(data2['mood'][ind_c2])],color=(1,0,0),linewidth=3)\n",
    "\n",
    "plt.ylim([0,8])\n",
    "plt.xlim([0,8])\n",
    "plt.box()\n",
    "\n",
    "# print score1,score2\n"
   ]
  },
  {
   "cell_type": "code",
   "execution_count": 63,
   "metadata": {
    "collapsed": false
   },
   "outputs": [
    {
     "data": {
      "text/plain": [
       "(-0.2608202654786535, -0.22803390145593702)"
      ]
     },
     "execution_count": 63,
     "metadata": {},
     "output_type": "execute_result"
    }
   ],
   "source": []
  },
  {
   "cell_type": "code",
   "execution_count": 40,
   "metadata": {
    "collapsed": false
   },
   "outputs": [
    {
     "data": {
      "text/plain": [
       "[0     6.678378\n",
       " 1     7.099056\n",
       " 2     6.676675\n",
       " 9     6.661835\n",
       " 10    6.847383\n",
       " 12    7.009743\n",
       " 13    7.099598\n",
       " 15    7.080837\n",
       " 19    6.912213\n",
       " 20    6.851378\n",
       " 22    6.961649\n",
       " 23    7.183126\n",
       " 24    7.075649\n",
       " 25    7.171559\n",
       " 26    7.075250\n",
       " 27    6.947845\n",
       " Name: quality, dtype: float64, 8     5.678378\n",
       " 6     5.099056\n",
       " 11    5.676675\n",
       " 11    5.661835\n",
       " 11    5.847383\n",
       " 21    6.009743\n",
       " 4     5.099598\n",
       " 4     5.080837\n",
       " 3     4.912213\n",
       " 21    5.851378\n",
       " 29    5.961649\n",
       " 11    6.183126\n",
       " 11    6.075649\n",
       " 3     5.171559\n",
       " 4     5.075250\n",
       " 21    5.947845\n",
       " Name: quality, dtype: float64]"
      ]
     },
     "execution_count": 40,
     "metadata": {},
     "output_type": "execute_result"
    }
   ],
   "source": [
    "[data1['quality'][ind_t1].T+n_quality_1, data1['quality'][ind_c1].T+n_quality_1]"
   ]
  },
  {
   "cell_type": "code",
   "execution_count": null,
   "metadata": {
    "collapsed": true
   },
   "outputs": [],
   "source": []
  }
 ],
 "metadata": {
  "kernelspec": {
   "display_name": "Python 2",
   "language": "python",
   "name": "python2"
  },
  "language_info": {
   "codemirror_mode": {
    "name": "ipython",
    "version": 2
   },
   "file_extension": ".py",
   "mimetype": "text/x-python",
   "name": "python",
   "nbconvert_exporter": "python",
   "pygments_lexer": "ipython2",
   "version": "2.7.6"
  }
 },
 "nbformat": 4,
 "nbformat_minor": 1
}
