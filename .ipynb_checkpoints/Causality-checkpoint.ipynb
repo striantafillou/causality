{
 "cells": [
  {
   "cell_type": "code",
   "execution_count": 103,
   "metadata": {
    "collapsed": false
   },
   "outputs": [
    {
     "name": "stdout",
     "output_type": "stream",
     "text": [
      "None\n"
     ]
    }
   ],
   "source": [
    "import numpy as np\n",
    "from causalinference import CausalModel\n",
    "\n",
    "D = np.random.normal(size=5000).reshape([5000,])\n",
    "D[D>=0] = 1\n",
    "D[D<0] = 0\n",
    "Y = D + 0.2*np.random.normal(size=5000).reshape([5000,])\n",
    "X = np.random.normal(size=[5000,3])\n",
    "causal = CausalModel(Y, D, X)\n",
    "prop = causal.est_propensity(lin='all')\n",
    "print prop"
   ]
  },
  {
   "cell_type": "code",
   "execution_count": 105,
   "metadata": {
    "collapsed": false,
    "scrolled": true
   },
   "outputs": [
    {
     "data": {
      "text/plain": [
       "{'Y_c_mean': 0.0006563896930242445, 'X_t_sd': array([ 1.01975201,  0.99072297,  0.99034272]), 'N_t': 2462, 'K': 3, 'ndiff': array([-0.05006758, -0.01142147,  0.01967482]), 'N': 5000, 'Y_t_sd': 0.19980414154956927, 'rdiff': 0.99277352942451447, 'Y_t_mean': 0.99342991911753875, 'X_c_mean': array([ 0.03434625, -0.01969352, -0.02854421]), 'X_t_mean': array([-0.01645882, -0.03101107, -0.00912768]), 'Y_c_sd': 0.19848373928201801, 'X_c_sd': array([ 1.00968257,  0.99107913,  0.98338921]), 'N_c': 2538}"
      ]
     },
     "execution_count": 105,
     "metadata": {},
     "output_type": "execute_result"
    }
   ],
   "source": [
    "causal.summary_stats"
   ]
  },
  {
   "cell_type": "code",
   "execution_count": 99,
   "metadata": {
    "collapsed": false
   },
   "outputs": [
    {
     "data": {
      "text/plain": [
       "array([[ 1.08974448,  1.30833924, -0.88119985],\n",
       "       [ 1.25712849,  0.01067422, -1.17826716],\n",
       "       [-0.17671071,  1.37280266, -0.71871578],\n",
       "       ..., \n",
       "       [ 0.24578443,  0.73221178,  1.03756041],\n",
       "       [-0.11091617, -0.98300552, -0.22378693],\n",
       "       [-0.2260853 , -0.83304999, -0.52026749]])"
      ]
     },
     "execution_count": 99,
     "metadata": {},
     "output_type": "execute_result"
    }
   ],
   "source": [
    "X"
   ]
  },
  {
   "cell_type": "code",
   "execution_count": 81,
   "metadata": {
    "collapsed": false
   },
   "outputs": [],
   "source": [
    "from causalinference.utils import random_data\n",
    "\n",
    "Y, D, X = random_data()\n",
    "causal = CausalModel(Y, D, X)\n",
    "prop = causal.est_propensity(lin='all')"
   ]
  },
  {
   "cell_type": "code",
   "execution_count": 94,
   "metadata": {
    "collapsed": false,
    "scrolled": true
   },
   "outputs": [
    {
     "name": "stdout",
     "output_type": "stream",
     "text": [
      "None\n"
     ]
    }
   ],
   "source": [
    "print prop"
   ]
  },
  {
   "cell_type": "code",
   "execution_count": 93,
   "metadata": {
    "collapsed": false
   },
   "outputs": [
    {
     "name": "stdout",
     "output_type": "stream",
     "text": [
      "4.9678754556 1.72583017795\n",
      "-0.965104526596 1.72583017795\n"
     ]
    }
   ],
   "source": [
    "# import matplotlib.pyplot as plt\n",
    "# %matplotlib inline\n",
    "\n",
    "print np.mean(Y[D==1]), np.std(Y[D==0])\n",
    "print np.mean(Y[D==0]), np.std(Y[D==0])"
   ]
  },
  {
   "cell_type": "code",
   "execution_count": 104,
   "metadata": {
    "collapsed": false
   },
   "outputs": [
    {
     "data": {
      "text/plain": [
       "[<matplotlib.lines.Line2D at 0x7f7ecb0f58d0>]"
      ]
     },
     "execution_count": 104,
     "metadata": {},
     "output_type": "execute_result"
    },
    {
     "data": {
      "image/png": "[encoded data removed]",
      "text/plain": [
       "<matplotlib.figure.Figure at 0x7f7ec9408a50>"
      ]
     },
     "metadata": {},
     "output_type": "display_data"
    }
   ],
   "source": [
    "import matplotlib.pyplot as plt\n",
    "%matplotlib inline\n",
    "\n",
    "plt.plot(Y,D,'.')"
   ]
  }
 ],
 "metadata": {
  "kernelspec": {
   "display_name": "Python 2",
   "language": "python",
   "name": "python2"
  },
  "language_info": {
   "codemirror_mode": {
    "name": "ipython",
    "version": 2
   },
   "file_extension": ".py",
   "mimetype": "text/x-python",
   "name": "python",
   "nbconvert_exporter": "python",
   "pygments_lexer": "ipython2",
   "version": "2.7.6"
  }
 },
 "nbformat": 4,
 "nbformat_minor": 1
}
