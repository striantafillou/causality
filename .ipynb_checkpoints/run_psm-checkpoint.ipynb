{
 "cells": [
  {
   "cell_type": "code",
   "execution_count": 51,
   "metadata": {
    "collapsed": false,
    "scrolled": false
   },
   "outputs": [
    {
     "name": "stdout",
     "output_type": "stream",
     "text": [
      "0 1 2 3 4 5 6 7 8 9 10 11 12 13 14 15 16 17 18 19 20 21 22 23 24 25 26 27 28 29 30 31 32 33 34 35 36 37 38 39 40 41 42 43 44 45 46 47 48 49 50 51 52 53 54 55 56 57 58 59 60 61 62 63 64 65 66 67 68 69 70 71 72 73 74 75 76 77 78 79 80 81 82 83 84 85 86 87 88 89 90 91 92 93 94 95 96 97 98 99\n"
     ]
    }
   ],
   "source": [
    "import pickle\n",
    "import pandas as pd\n",
    "import numpy as np\n",
    "from psm_causal_effects import psm_causal_effects\n",
    "\n",
    "# read data\n",
    "with open('data_clean.dat') as f:\n",
    "    data = pickle.load(f)\n",
    "f.close()\n",
    "\n",
    "n_boot = 100\n",
    "\n",
    "ind_set = range(len(data))\n",
    "\n",
    "es_m2s_mean = np.array([])\n",
    "es_s2m_mean = np.array([])\n",
    "# es_a2s_mean = np.array([])\n",
    "for k in range(n_boot):\n",
    "    \n",
    "    print k,\n",
    "    \n",
    "    inds = np.random.choice(ind_set, size=len(data), replace=True)\n",
    "\n",
    "    es_s2m_matched = np.array([])\n",
    "    es_m2s_matched = np.array([])\n",
    "    es_s2m_unmatched = np.array([])\n",
    "    es_m2s_unmatched = np.array([])\n",
    "#     es_a2s = np.array([])\n",
    "    for i in inds:\n",
    "\n",
    "        # mood on sleep\n",
    "        treatment = np.array(data[i]['mood_prev'])\n",
    "        outcome = np.array(data[i]['quality'])\n",
    "        confound = np.array(pd.concat([data[i]['quality_prev'],data[i]['act_prev'],data[i]['stress_prev'],data[i]['energy_prev'],data[i]['daytype']],axis=1))\n",
    "        es_m2s_matched = np.append(es_m2s,psm_causal_effects(treatment=treatment, outcome=outcome, confound=confound, scorefun='replacement'))\n",
    "        es_m2s_unmatched = np.append(es_m2s,psm_causal_effects(treatment=treatment, outcome=outcome, confound=confound, scorefun='unmatched'))\n",
    "        \n",
    "#         # activity on sleep\n",
    "#         treatment = np.array(data[i]['act_prev'], dtype=float)\n",
    "#         outcome = np.array(data[i]['quality'])\n",
    "#         confound = np.array(pd.concat([data[i]['quality_prev'],data[i]['mood_prev'],data[i]['stress_prev'],data[i]['energy_prev'],data[i]['daytype']],axis=1))\n",
    "#         es_a2s = np.append(es_a2s,psm_causal_effects(treatment=treatment, outcome=outcome, confound=confound, scorefun='replacement'))\n",
    "        \n",
    "        # sleep on mood\n",
    "        treatment = np.array(data[i]['quality'])\n",
    "        outcome = np.array(data[i]['mood'])\n",
    "        confound = np.array(pd.concat([data[i]['mood_prev'],data[i]['quality_prev'],data[i]['stress_prev'],data[i]['energy_prev'],data[i]['daytype']],axis=1))\n",
    "        es_s2m_matched = np.append(es_s2m,psm_causal_effects(treatment=treatment, outcome=outcome, confound=confound, scorefun='replacement'))\n",
    "        es_s2m_unmatched = np.append(es_s2m,psm_causal_effects(treatment=treatment, outcome=outcome, confound=confound, scorefun='unmatched'))\n",
    "        \n",
    "    es_m2s_mean = np.append(es_m2s_mean, np.mean(es_m2s))\n",
    "    es_s2m_mean = np.append(es_s2m_mean, np.mean(es_s2m))\n",
    "#     es_a2s_mean = np.append(es_a2s_mean, np.mean(es_a2s))\n",
    "    "
   ]
  },
  {
   "cell_type": "code",
   "execution_count": null,
   "metadata": {
    "collapsed": true
   },
   "outputs": [],
   "source": []
  },
  {
   "cell_type": "code",
   "execution_count": null,
   "metadata": {
    "collapsed": true
   },
   "outputs": [],
   "source": []
  },
  {
   "cell_type": "code",
   "execution_count": 52,
   "metadata": {
    "collapsed": false,
    "scrolled": true
   },
   "outputs": [
    {
     "data": {
      "text/plain": [
       "<matplotlib.text.Text at 0x7f23a6ccaa90>"
      ]
     },
     "execution_count": 52,
     "metadata": {},
     "output_type": "execute_result"
    },
    {
     "data": {
      "image/png": "[encoded data removed]",
      "text/plain": [
       "<matplotlib.figure.Figure at 0x7f23a566fa50>"
      ]
     },
     "metadata": {},
     "output_type": "display_data"
    }
   ],
   "source": [
    "import matplotlib.pyplot as plt\n",
    "%matplotlib inline\n",
    "\n",
    "plt.figure(figsize=(5,2))\n",
    "plt.barh(0.75,np.mean(es_m2s_mean),xerr=np.array([np.mean(es_m2s_mean)-np.percentile(es_m2s_mean,2.5),np.percentile(es_m2s_mean,97.5)-np.mean(es_m2s_mean)]).reshape(2,1),\\\n",
    "       ecolor=(0,0,0),height=.5,color=(.5,.5,1))\n",
    "plt.barh(1.75,np.mean(es_s2m_mean),xerr=np.array([np.mean(es_s2m_mean)-np.percentile(es_s2m_mean,2.5),np.percentile(es_s2m_mean,97.5)-np.mean(es_s2m_mean)]).reshape(2,1),\\\n",
    "       ecolor=(0,0,0),height=.5,color=(.5,.5,1))\n",
    "# plt.xlim([0,1])\n",
    "# plt.ylim([0,3])\n",
    "plt.yticks([1,2],['Mood on Sleep Quality','Sleep Quality on Mood','Activity on Sleep Quality'],rotation=0);\n",
    "plt.xlabel('Average Effect Size')"
   ]
  },
  {
   "cell_type": "code",
   "execution_count": 8,
   "metadata": {
    "collapsed": false,
    "scrolled": false
   },
   "outputs": [
    {
     "data": {
      "text/plain": [
       "(array([  1.,   4.,   5.,   9.,  26.,  17.,  11.,  10.,   8.,   9.]),\n",
       " array([-0.02288372,  0.00270624,  0.02829621,  0.05388618,  0.07947615,\n",
       "         0.10506612,  0.13065609,  0.15624606,  0.18183603,  0.207426  ,\n",
       "         0.23301597]),\n",
       " <a list of 10 Patch objects>)"
      ]
     },
     "execution_count": 8,
     "metadata": {},
     "output_type": "execute_result"
    },
    {
     "data": {
      "image/png": "[encoded data removed]",
      "text/plain": [
       "<matplotlib.figure.Figure at 0x7faa78e9bfd0>"
      ]
     },
     "metadata": {},
     "output_type": "display_data"
    }
   ],
   "source": [
    "plt.hist(es_m2s_mean)"
   ]
  },
  {
   "cell_type": "code",
   "execution_count": 9,
   "metadata": {
    "collapsed": false
   },
   "outputs": [
    {
     "data": {
      "text/plain": [
       "-0.022118796427297648"
      ]
     },
     "execution_count": 9,
     "metadata": {},
     "output_type": "execute_result"
    }
   ],
   "source": [
    "np.percentile(es_m2s_mean,.025)"
   ]
  }
 ],
 "metadata": {
  "kernelspec": {
   "display_name": "Python [ana41py2dot7]",
   "language": "python",
   "name": "Python [ana41py2dot7]"
  },
  "language_info": {
   "codemirror_mode": {
    "name": "ipython",
    "version": 2
   },
   "file_extension": ".py",
   "mimetype": "text/x-python",
   "name": "python",
   "nbconvert_exporter": "python",
   "pygments_lexer": "ipython2",
   "version": "2.7.13"
  }
 },
 "nbformat": 4,
 "nbformat_minor": 1
}
