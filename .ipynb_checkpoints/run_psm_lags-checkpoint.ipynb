{
 "cells": [
  {
   "cell_type": "code",
   "execution_count": 2,
   "metadata": {
    "collapsed": false,
    "scrolled": false
   },
   "outputs": [
    {
     "name": "stdout",
     "output_type": "stream",
     "text": [
      "0 1 2 3 4 5 6 7 8 9 10 11 12 13 14 15 16 17 18 19 20 21 22 23 24 25 26 27 28 29 30 31 32 33 34 35 36 37 38 39 40 41 42 43 44 45 46 47 48 49 50 51 52 53 54 55 56 57 58 59 60 61 62 63 64 65 66 67 68 69 70 71 72 73 74 75 76 77 78 79 80 81 82 83 84 85 86 87 88 89 90 91 92 93 94 95 96 97 98 99\n"
     ]
    }
   ],
   "source": [
    "import pickle\n",
    "import pandas as pd\n",
    "import numpy as np\n",
    "from psm_causal_effects import psm_causal_effects\n",
    "from extract_remove_nans import extract_remove_nans\n",
    "\n",
    "# read data\n",
    "with open('data.dat') as f:\n",
    "    data, subjects = pickle.load(f)\n",
    "f.close()\n",
    "\n",
    "n_boot = 100\n",
    "\n",
    "ind_set = range(len(data))\n",
    "\n",
    "es_m2s_mean = np.zeros([n_boot,4])\n",
    "es_s2m_mean = np.zeros([n_boot,4])\n",
    "es_s2m_um_mean = np.zeros([n_boot, 1])\n",
    "es_m2s_um_mean = np.zeros([n_boot, 1])\n",
    "    \n",
    "\n",
    "for k in range(n_boot):\n",
    "    \n",
    "    print k,\n",
    "    \n",
    "    inds = np.random.choice(ind_set, size=len(data), replace=True)\n",
    "\n",
    "    es_s2m = np.zeros([len(data),4])\n",
    "    es_m2s = np.zeros([len(data),4])\n",
    "    es_s2m_um = np.zeros([len(data), 1])\n",
    "    es_m2s_um = np.zeros([len(data), 1])\n",
    "    \n",
    "    for (c,i) in enumerate(inds):\n",
    "        \n",
    "       \n",
    "        # mood on sleep - lag 0 - unmatched\n",
    "        treatment = 'mood_prev'\n",
    "        outcome = 'quality'\n",
    "        data_s = extract_remove_nans(data[i], [treatment]+[outcome])\n",
    "        es_m2s_um[c] = psm_causal_effects(treatment=data_s[treatment], outcome=data_s[outcome], confound=[], scorefun='unmatched')\n",
    "        \n",
    "        # mood on sleep - lag 0\n",
    "        confound = ['dow', 'mean_temp_prev2', 'clear_prev2', 'act_prev2','daytype','stress_prev2','energy_prev2','focus_prev2']\n",
    "        data_s = extract_remove_nans(data[i], [treatment]+[outcome]+confound)\n",
    "        es_m2s[c,0] = psm_causal_effects(treatment=data_s[treatment], outcome=data_s[outcome], confound=data_s[confound], scorefun='replacement')\n",
    "        \n",
    "        # mood on sleep - lag 1\n",
    "        confound = ['dow', 'mean_temp_prev2', 'clear_prev2', 'act_prev2','daytype','stress_prev2','energy_prev2','focus_prev2','mood_prev2','quality_prev']\n",
    "        data_s = extract_remove_nans(data[i], [treatment]+[outcome]+confound)\n",
    "        es_m2s[c,1] = psm_causal_effects(treatment=data_s[treatment], outcome=data_s[outcome], confound=data_s[confound], scorefun='replacement')\n",
    "\n",
    "        # mood on sleep - lag 2\n",
    "        confound = ['dow', 'mean_temp_prev2', 'clear_prev2', 'act_prev2','daytype','stress_prev2','energy_prev2','focus_prev2','mood_prev2','quality_prev','mood_prev3','quality_prev2']\n",
    "        data_s = extract_remove_nans(data[i], [treatment]+[outcome]+confound)\n",
    "        es_m2s[c,2] = psm_causal_effects(treatment=data_s[treatment], outcome=data_s[outcome], confound=data_s[confound], scorefun='replacement')\n",
    "\n",
    "        # mood on sleep - lag 3\n",
    "        confound = ['dow', 'mean_temp_prev2', 'clear_prev2', 'act_prev2','daytype','stress_prev2','energy_prev2','focus_prev2','mood_prev2','quality_prev','mood_prev3','quality_prev2','mood_prev4','quality_prev3']\n",
    "        data_s = extract_remove_nans(data[i], [treatment]+[outcome]+confound)\n",
    "        es_m2s[c,3] = psm_causal_effects(treatment=data_s[treatment], outcome=data_s[outcome], confound=data_s[confound], scorefun='replacement')\n",
    "\n",
    "        ################ sleep on mood\n",
    "        \n",
    "        # sleep on mood - lag 0 - unmatched\n",
    "        treatment = 'quality'\n",
    "        outcome = 'mood'\n",
    "        data_s = extract_remove_nans(data[i], [treatment]+[outcome])\n",
    "        es_s2m_um[c] = psm_causal_effects(treatment=data_s[treatment], outcome=data_s[outcome], confound=[], scorefun='unmatched')\n",
    "        \n",
    "        # sleep on mood - lag 0\n",
    "        confound = ['dow', 'mean_temp_prev', 'clear_prev', 'act_prev','daytype','stress_prev','energy_prev','focus_prev']\n",
    "        data_s = extract_remove_nans(data[i], [treatment]+[outcome]+confound)\n",
    "        es_s2m[c,0] = psm_causal_effects(treatment=data_s[treatment], outcome=data_s[outcome], confound=data_s[confound], scorefun='replacement')\n",
    "        \n",
    "        # sleep on mood - lag 1\n",
    "        confound = ['dow', 'mean_temp_prev', 'clear_prev','act_prev','daytype','stress_prev','energy_prev','focus_prev','mood_prev','quality_prev']\n",
    "        data_s = extract_remove_nans(data[i], [treatment]+[outcome]+confound)\n",
    "        es_s2m[c,1] = psm_causal_effects(treatment=data_s[treatment], outcome=data_s[outcome], confound=data_s[confound], scorefun='replacement')\n",
    "        \n",
    "        # sleep on mood - lag 2\n",
    "        confound = ['dow', 'mean_temp_prev', 'clear_prev','act_prev','daytype','stress_prev','energy_prev','focus_prev','mood_prev','quality_prev','mood_prev2','quality_prev2']\n",
    "        data_s = extract_remove_nans(data[i], [treatment]+[outcome]+confound)\n",
    "        es_s2m[c,2] = psm_causal_effects(treatment=data_s[treatment], outcome=data_s[outcome], confound=data_s[confound], scorefun='replacement')\n",
    "        \n",
    "        # sleep on mood - lag 3\n",
    "        confound = ['dow', 'mean_temp_prev', 'clear_prev','act_prev','daytype','stress_prev','energy_prev','focus_prev','mood_prev','quality_prev','mood_prev2','quality_prev2','mood_prev3','quality_prev3']\n",
    "        data_s = extract_remove_nans(data[i], [treatment]+[outcome]+confound)\n",
    "        es_s2m[c,3] = psm_causal_effects(treatment=data_s[treatment], outcome=data_s[outcome], confound=data_s[confound], scorefun='replacement')\n",
    "        \n",
    "    es_m2s_mean[k,:] = np.nanmean(es_m2s, axis=0)\n",
    "    es_s2m_mean[k,:] = np.nanmean(es_s2m, axis=0)\n",
    "    es_m2s_um_mean[k] = np.nanmean(es_m2s_um, axis=0)\n",
    "    es_s2m_um_mean[k] = np.nanmean(es_s2m_um, axis=0)\n",
    "    \n"
   ]
  },
  {
   "cell_type": "code",
   "execution_count": 3,
   "metadata": {
    "collapsed": false,
    "scrolled": false
   },
   "outputs": [
    {
     "data": {
      "text/plain": [
       "[<matplotlib.lines.Line2D at 0x7f6b7123bd50>]"
      ]
     },
     "execution_count": 3,
     "metadata": {},
     "output_type": "execute_result"
    },
    {
     "data": {
      "image/png": "[encoded data removed]",
      "text/plain": [
       "<matplotlib.figure.Figure at 0x7f6b71357cd0>"
      ]
     },
     "metadata": {},
     "output_type": "display_data"
    }
   ],
   "source": [
    "import matplotlib.pyplot as plt\n",
    "# from matplotlib import rc\n",
    "# rc('font',**{'family':'sans-serif','sans-serif':['Helvetica']})\n",
    "# rc('text', usetex=True)\n",
    "%matplotlib inline\n",
    "\n",
    "plt.figure(figsize=(6,5))\n",
    "plt.bar([-.25,1.75,2.75,3.75,4.75],np.concatenate([np.array([np.mean(es_m2s_um_mean)]),np.mean(es_m2s_mean,axis=0)],axis=0).reshape([5,1]),yerr=np.array([\\\n",
    "    [np.mean(es_m2s_um_mean)-np.percentile(es_m2s_um_mean,2.5),np.percentile(es_m2s_um_mean,97.5)-np.mean(es_m2s_um_mean)],\\\n",
    "    [np.mean(es_m2s_mean[:,0])-np.percentile(es_m2s_mean[:,0],2.5),np.percentile(es_m2s_mean[:,0],97.5)-np.mean(es_m2s_mean[:,0])],\\\n",
    "    [np.mean(es_m2s_mean[:,1])-np.percentile(es_m2s_mean[:,1],2.5),np.percentile(es_m2s_mean[:,1],97.5)-np.mean(es_m2s_mean[:,1])],\\\n",
    "    [np.mean(es_m2s_mean[:,2])-np.percentile(es_m2s_mean[:,2],2.5),np.percentile(es_m2s_mean[:,2],97.5)-np.mean(es_m2s_mean[:,2])],\\\n",
    "    [np.mean(es_m2s_mean[:,3])-np.percentile(es_m2s_mean[:,3],2.5),np.percentile(es_m2s_mean[:,3],97.5)-np.mean(es_m2s_mean[:,3])]]).reshape(2,5),\\\n",
    "    ecolor=(0,0,0),width=.25,color=(.5,.5,.8))\n",
    "plt.bar([0,2,3,4,5],np.concatenate([np.array([np.mean(es_s2m_um_mean)]),np.mean(es_s2m_mean,axis=0)],axis=0).reshape([5,1]),yerr=np.array([\\\n",
    "    [np.mean(es_s2m_um_mean)-np.percentile(es_s2m_um_mean,2.5),np.percentile(es_s2m_um_mean,97.5)-np.mean(es_s2m_um_mean)],\\\n",
    "    [np.mean(es_s2m_mean[:,0])-np.percentile(es_s2m_mean[:,0],2.5),np.percentile(es_s2m_mean[:,0],97.5)-np.mean(es_s2m_mean[:,0])],\\\n",
    "    [np.mean(es_s2m_mean[:,1])-np.percentile(es_s2m_mean[:,1],2.5),np.percentile(es_s2m_mean[:,1],97.5)-np.mean(es_s2m_mean[:,1])],\\\n",
    "    [np.mean(es_s2m_mean[:,2])-np.percentile(es_s2m_mean[:,2],2.5),np.percentile(es_s2m_mean[:,2],97.5)-np.mean(es_s2m_mean[:,2])],\\\n",
    "    [np.mean(es_s2m_mean[:,3])-np.percentile(es_s2m_mean[:,3],2.5),np.percentile(es_s2m_mean[:,3],97.5)-np.mean(es_s2m_mean[:,3])]]).reshape(2,5),\\\n",
    "    ecolor=(0,0,0),width=.25,color=(.5,.8,.5))\n",
    "a = plt.ylim([0,2.5])\n",
    "plt.xlim([-.5,5.5])\n",
    "plt.xticks([0,2,3,4,5],['unmatched', 'T=0','T=1','T=2','T=3'],rotation=0);\n",
    "plt.ylabel('Mean Personal Causal Effect',fontsize=14)\n",
    "plt.xlabel('lags 0 to T',fontsize=14)\n",
    "plt.legend(['Mood on Sleep Quality','Sleep Quality on Mood'],loc='upper right',bbox_to_anchor=(1, 1), fontsize=10);\n",
    "plt.plot([1,1],[a[0],a[1]],'--',color=(0,0,0))"
   ]
  }
 ],
 "metadata": {
  "anaconda-cloud": {},
  "kernelspec": {
   "display_name": "Python 2",
   "language": "python",
   "name": "python2"
  },
  "language_info": {
   "codemirror_mode": {
    "name": "ipython",
    "version": 2
   },
   "file_extension": ".py",
   "mimetype": "text/x-python",
   "name": "python",
   "nbconvert_exporter": "python",
   "pygments_lexer": "ipython2",
   "version": "2.7.6"
  }
 },
 "nbformat": 4,
 "nbformat_minor": 1
}
