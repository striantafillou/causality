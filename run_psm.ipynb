{
 "cells": [
  {
   "cell_type": "code",
   "execution_count": 1,
   "metadata": {
    "collapsed": false
   },
   "outputs": [
    {
     "name": "stdout",
     "output_type": "stream",
     "text": [
      "21 subjects removed due to lack of data\n"
     ]
    }
   ],
   "source": [
    "import pickle\n",
    "import pandas as pd\n",
    "import numpy as np\n",
    "from psm_causal_effects import psm_causal_effects\n",
    "\n",
    "graph = True\n",
    "figDir = 'figs'\n",
    "treatment = 'quality'\n",
    "outcome = 'mood';\n",
    "confound = ['duration','mood_prev','stress_prev','energy_prev','focus_prev','activity_prev','daytype_prev']\n",
    "\n",
    "# read data\n",
    "with open('data.dat') as f:\n",
    "    data = pickle.load(f)\n",
    "f.close()\n",
    "\n",
    "# removing nan rows\n",
    "for i in range(len(data)):\n",
    "    data[i] = data[i].dropna()\n",
    "    data[i] = data[i].reset_index(drop=True)\n",
    "    \n",
    "# removing empty subjects\n",
    "ind_empty = []\n",
    "for i in range(len(data)):\n",
    "    if data[i].shape[0]==0:\n",
    "        ind_empty.append(i)\n",
    "data = [i for j, i in enumerate(data) if j not in ind_empty]\n",
    "print str(len(ind_empty))+' subjects removed due to lack of data'"
   ]
  },
  {
   "cell_type": "code",
   "execution_count": 3,
   "metadata": {
    "collapsed": false
   },
   "outputs": [
    {
     "name": "stdout",
     "output_type": "stream",
     "text": [
      "0 1 2 3 4 5 6 7 8 9 10 11 12 13 14 15 16 17 18 19 20 21 22 23 24 25 26 27 28 29 30 31 32 33 34 35 36 37 38 39 40 41 42 43 44 45 46 47 48 49 50 51 52 53 54 55 56 57 58 59 60 61 62 63 64 65 66 67 68 69 70 71 72 73 74 75 76 77 78 79 80 81 82 83 84 85 86 87 88 89 90 91 92 93 94 95 96 97 98 99\n"
     ]
    }
   ],
   "source": [
    "n_boot = 100\n",
    "\n",
    "ind_set = range(len(data))\n",
    "\n",
    "es_mean = np.array([])\n",
    "for k in range(n_boot):\n",
    "    \n",
    "    print k,\n",
    "    \n",
    "    inds = np.random.choice(ind_set, size=len(data), replace=True)\n",
    "\n",
    "    es = np.array([])\n",
    "    for i in inds:\n",
    "\n",
    "        treatment = np.array(data[i]['mood_prev'])\n",
    "        outcome = np.array(data[i]['quality'])\n",
    "        confound = np.array(pd.concat([data[i]['quality_prev'],data[i]['stress_prev']],axis=1))\n",
    "\n",
    "        es = np.append(es,psm_causal_effects(treatment=treatment, outcome=outcome, confound=confound, scorefun='replacement'))\n",
    "\n",
    "    es_mean = np.append(es_mean, np.mean(es))\n",
    "    "
   ]
  },
  {
   "cell_type": "code",
   "execution_count": 4,
   "metadata": {
    "collapsed": false,
    "scrolled": true
   },
   "outputs": [
    {
     "name": "stdout",
     "output_type": "stream",
     "text": [
      "0.127302098601\n"
     ]
    },
    {
     "data": {
      "image/png": "[encoded data removed]",
      "text/plain": [
       "<matplotlib.figure.Figure at 0x7ff36132cfd0>"
      ]
     },
     "metadata": {},
     "output_type": "display_data"
    }
   ],
   "source": [
    "import matplotlib.pyplot as plt\n",
    "%matplotlib inline\n",
    "\n",
    "print np.mean(es_mean)\n",
    "plt.hist(es_mean,20);"
   ]
  },
  {
   "cell_type": "code",
   "execution_count": null,
   "metadata": {
    "collapsed": false
   },
   "outputs": [],
   "source": [
    "es"
   ]
  },
  {
   "cell_type": "code",
   "execution_count": null,
   "metadata": {
    "collapsed": false
   },
   "outputs": [],
   "source": [
    "from psm_causal_effects import psm_causal_effects\n",
    "\n",
    "treatment, confound, model = psm_causal_effects(, , )"
   ]
  }
 ],
 "metadata": {
  "kernelspec": {
   "display_name": "Python 2",
   "language": "python",
   "name": "python2"
  },
  "language_info": {
   "codemirror_mode": {
    "name": "ipython",
    "version": 2
   },
   "file_extension": ".py",
   "mimetype": "text/x-python",
   "name": "python",
   "nbconvert_exporter": "python",
   "pygments_lexer": "ipython2",
   "version": "2.7.6"
  }
 },
 "nbformat": 4,
 "nbformat_minor": 1
}
