{
 "cells": [
  {
   "cell_type": "code",
   "execution_count": 22,
   "metadata": {
    "collapsed": false
   },
   "outputs": [
    {
     "name": "stdout",
     "output_type": "stream",
     "text": [
      "21 subjects remove due to lack of data\n"
     ]
    }
   ],
   "source": [
    "import pickle\n",
    "import pandas as pd\n",
    "\n",
    "graph = True\n",
    "figDir = 'figs'\n",
    "treatment = 'quality'\n",
    "outcome = 'mood';\n",
    "confound = ['duration','mood_prev','stress_prev','energy_prev','focus_prev','activity_prev','daytype_prev']\n",
    "\n",
    "# read data\n",
    "with open('data.dat') as f:\n",
    "    data = pickle.load(f)\n",
    "f.close()\n",
    "\n",
    "# removing nan rows\n",
    "for i in range(len(data)):\n",
    "    data[i] = data[i].dropna()\n",
    "    data[i] = data[i].reset_index(drop=True)\n",
    "    \n",
    "# removing empty subjects\n",
    "ind_empty = []\n",
    "for i in range(len(data)):\n",
    "    if data[i].shape[0]==0:\n",
    "        ind_empty.append(i)\n",
    "data = [i for j, i in enumerate(data) if j not in ind_empty]\n",
    "print str(len(ind_empty))+' subjects removed due to lack of data'\n",
    "\n",
    "matching = psm_causal_effects()"
   ]
  },
  {
   "cell_type": "code",
   "execution_count": 20,
   "metadata": {
    "collapsed": false
   },
   "outputs": [
    {
     "data": {
      "text/plain": [
       "187"
      ]
     },
     "execution_count": 20,
     "metadata": {},
     "output_type": "execute_result"
    }
   ],
   "source": []
  }
 ],
 "metadata": {
  "kernelspec": {
   "display_name": "Python 2",
   "language": "python",
   "name": "python2"
  },
  "language_info": {
   "codemirror_mode": {
    "name": "ipython",
    "version": 2
   },
   "file_extension": ".py",
   "mimetype": "text/x-python",
   "name": "python",
   "nbconvert_exporter": "python",
   "pygments_lexer": "ipython2",
   "version": "2.7.6"
  }
 },
 "nbformat": 4,
 "nbformat_minor": 1
}
