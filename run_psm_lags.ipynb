{
 "cells": [
  {
   "cell_type": "code",
   "execution_count": 21,
   "metadata": {
    "collapsed": false
   },
   "outputs": [
    {
     "name": "stdout",
     "output_type": "stream",
     "text": [
      "0 1 2 3 4 5 6 7 8 9\n"
     ]
    }
   ],
   "source": [
    "import pickle\n",
    "import pandas as pd\n",
    "import numpy as np\n",
    "from psm_causal_effects import psm_causal_effects\n",
    "\n",
    "# read data\n",
    "with open('data_clean.dat') as f:\n",
    "    data = pickle.load(f)\n",
    "f.close()\n",
    "\n",
    "n_boot = 10\n",
    "\n",
    "ind_set = range(len(data))\n",
    "\n",
    "es_m2s_mean = np.zeros([n_boot,4])\n",
    "es_s2m_mean = np.zeros([n_boot,4])\n",
    "\n",
    "for k in range(n_boot):\n",
    "    \n",
    "    print k,\n",
    "    \n",
    "    inds = np.random.choice(ind_set, size=len(data), replace=True)\n",
    "\n",
    "    es_s2m = np.zeros([len(data),4])\n",
    "    es_m2s = np.zeros([len(data),4])\n",
    "    \n",
    "    for (c,i) in enumerate(inds):\n",
    "\n",
    "        # mood on sleep - lag 0\n",
    "        treatment = np.array(data[i]['mood_prev'])\n",
    "        outcome = np.array(data[i]['quality'])\n",
    "        confound = np.array(pd.concat([data[i]['act_prev'],data[i]['stress_prev'],data[i]['energy_prev'],data[i]['daytype']],axis=1))\n",
    "        es_m2s[c,0] = psm_causal_effects(treatment=treatment, outcome=outcome, confound=confound, scorefun='replacement')\n",
    "\n",
    "        # mood on sleep - lag 1\n",
    "        treatment = np.array(data[i]['mood_prev'])\n",
    "        outcome = np.array(data[i]['quality'])\n",
    "        confound = np.array(pd.concat([data[i]['act_prev'],data[i]['stress_prev'],data[i]['energy_prev'],data[i]['daytype'],\\\n",
    "                                      data[i]['mood_prev2'],data[i]['quality_prev']],axis=1))\n",
    "        es_m2s[c,1] = psm_causal_effects(treatment=treatment, outcome=outcome, confound=confound, scorefun='replacement')\n",
    "\n",
    "        # mood on sleep - lag 2\n",
    "        treatment = np.array(data[i]['mood_prev'])\n",
    "        outcome = np.array(data[i]['quality'])\n",
    "        confound = np.array(pd.concat([data[i]['act_prev'],data[i]['stress_prev'],data[i]['energy_prev'],data[i]['daytype'],\\\n",
    "                                      data[i]['mood_prev2'],data[i]['quality_prev'],data[i]['mood_prev3'],data[i]['quality_prev2']],axis=1))\n",
    "        es_m2s[c,2] = psm_causal_effects(treatment=treatment, outcome=outcome, confound=confound, scorefun='replacement')\n",
    "\n",
    "        # mood on sleep - lag 3\n",
    "        treatment = np.array(data[i]['mood_prev'])\n",
    "        outcome = np.array(data[i]['quality'])\n",
    "        confound = np.array(pd.concat([data[i]['act_prev'],data[i]['stress_prev'],data[i]['energy_prev'],data[i]['daytype'],\\\n",
    "                                      data[i]['mood_prev2'],data[i]['quality_prev'],data[i]['mood_prev3'],data[i]['quality_prev2'],data[i]['mood_prev4'],data[i]['quality_prev3']],axis=1))\n",
    "        es_m2s[c,3] = psm_causal_effects(treatment=treatment, outcome=outcome, confound=confound, scorefun='replacement')\n",
    "        \n",
    "        # sleep on mood - lag 0\n",
    "        treatment = np.array(data[i]['quality'])\n",
    "        outcome = np.array(data[i]['mood'])\n",
    "        confound = np.array(pd.concat([data[i]['stress_prev'],data[i]['energy_prev'],data[i]['daytype']],axis=1))\n",
    "        es_s2m[c,0] = psm_causal_effects(treatment=treatment, outcome=outcome, confound=confound, scorefun='replacement')\n",
    "\n",
    "        # sleep on mood - lag 1\n",
    "        treatment = np.array(data[i]['quality'])\n",
    "        outcome = np.array(data[i]['mood'])\n",
    "        confound = np.array(pd.concat([data[i]['stress_prev'],data[i]['energy_prev'],data[i]['daytype'],\\\n",
    "                                      data[i]['mood_prev'],data[i]['quality_prev']],axis=1))\n",
    "        es_s2m[c,1] = psm_causal_effects(treatment=treatment, outcome=outcome, confound=confound, scorefun='replacement')\n",
    "        \n",
    "        # sleep on mood - lag 2\n",
    "        treatment = np.array(data[i]['quality'])\n",
    "        outcome = np.array(data[i]['mood'])\n",
    "        confound = np.array(pd.concat([data[i]['stress_prev'],data[i]['energy_prev'],data[i]['daytype'],\\\n",
    "                                      data[i]['mood_prev'],data[i]['quality_prev'],data[i]['mood_prev2'],data[i]['quality_prev2']],axis=1))\n",
    "        es_s2m[c,2] = psm_causal_effects(treatment=treatment, outcome=outcome, confound=confound, scorefun='replacement')\n",
    "        \n",
    "        # sleep on mood - lag 3\n",
    "        treatment = np.array(data[i]['quality'])\n",
    "        outcome = np.array(data[i]['mood'])\n",
    "        confound = np.array(pd.concat([data[i]['stress_prev'],data[i]['energy_prev'],data[i]['daytype'],\\\n",
    "                                      data[i]['mood_prev'],data[i]['quality_prev'],data[i]['mood_prev2'],data[i]['quality_prev2'],data[i]['mood_prev3'],data[i]['quality_prev3']],axis=1))\n",
    "        es_s2m[c,3] = psm_causal_effects(treatment=treatment, outcome=outcome, confound=confound, scorefun='replacement')\n",
    "        \n",
    "    es_m2s_mean[k,:] = np.nanmean(es_m2s, axis=0)\n",
    "    es_s2m_mean[k,:] = np.nanmean(es_s2m, axis=0)\n",
    "    \n"
   ]
  },
  {
   "cell_type": "code",
   "execution_count": 23,
   "metadata": {
    "collapsed": false
   },
   "outputs": [
    {
     "data": {
      "image/png": "[encoded data removed]",
      "text/plain": [
       "<matplotlib.figure.Figure at 0x7f5c6b3c1a90>"
      ]
     },
     "metadata": {},
     "output_type": "display_data"
    }
   ],
   "source": [
    "import matplotlib.pyplot as plt\n",
    "%matplotlib inline\n",
    "plt.figure(figsize=(6,3))\n",
    "plt.barh([0.75,1.75,2.75,3.75],np.mean(es_m2s_mean,axis=0),xerr=np.array([\\\n",
    "    [np.mean(es_m2s_mean[:,0])-np.percentile(es_m2s_mean[:,0],2.5),np.percentile(es_m2s_mean[:,0],97.5)-np.mean(es_m2s_mean[:,0])],\\\n",
    "    [np.mean(es_m2s_mean[:,1])-np.percentile(es_m2s_mean[:,1],2.5),np.percentile(es_m2s_mean[:,1],97.5)-np.mean(es_m2s_mean[:,1])],\\\n",
    "    [np.mean(es_m2s_mean[:,2])-np.percentile(es_m2s_mean[:,2],2.5),np.percentile(es_m2s_mean[:,2],97.5)-np.mean(es_m2s_mean[:,2])],\\\n",
    "    [np.mean(es_m2s_mean[:,3])-np.percentile(es_m2s_mean[:,3],2.5),np.percentile(es_m2s_mean[:,3],97.5)-np.mean(es_m2s_mean[:,3])]]).reshape(2,4),\\\n",
    "    ecolor=(0,0,0),height=.25,color=(.5,.5,1))\n",
    "plt.barh([1,2,3,4],np.mean(es_s2m_mean,axis=0),xerr=np.array([\\\n",
    "    [np.mean(es_s2m_mean[:,0])-np.percentile(es_s2m_mean[:,0],2.5),np.percentile(es_s2m_mean[:,0],97.5)-np.mean(es_s2m_mean[:,0])],\\\n",
    "    [np.mean(es_s2m_mean[:,1])-np.percentile(es_s2m_mean[:,1],2.5),np.percentile(es_s2m_mean[:,1],97.5)-np.mean(es_s2m_mean[:,1])],\\\n",
    "    [np.mean(es_s2m_mean[:,2])-np.percentile(es_s2m_mean[:,2],2.5),np.percentile(es_s2m_mean[:,2],97.5)-np.mean(es_s2m_mean[:,2])],\\\n",
    "    [np.mean(es_s2m_mean[:,3])-np.percentile(es_s2m_mean[:,3],2.5),np.percentile(es_s2m_mean[:,3],97.5)-np.mean(es_s2m_mean[:,3])]]).reshape(2,4),\\\n",
    "    ecolor=(0,0,0),height=.25,color=(.5,1,.5))\n",
    "plt.xlim([-.05,1])\n",
    "plt.yticks([1,2,3,4],['lag 0','lag 0,1','lag 0,1,2','lag 0,1,2,3'],rotation=0);\n",
    "plt.xlabel('Mean Personal Causal Effect')\n",
    "plt.legend(['Mood on Sleep Quality','Sleep Quality on Mood'],loc='upper right',bbox_to_anchor=(1.3, 1.05), fontsize=10);"
   ]
  }
 ],
 "metadata": {
  "kernelspec": {
   "display_name": "Python 2",
   "language": "python",
   "name": "python2"
  },
  "language_info": {
   "codemirror_mode": {
    "name": "ipython",
    "version": 2
   },
   "file_extension": ".py",
   "mimetype": "text/x-python",
   "name": "python",
   "nbconvert_exporter": "python",
   "pygments_lexer": "ipython2",
   "version": "2.7.6"
  }
 },
 "nbformat": 4,
 "nbformat_minor": 1
}
