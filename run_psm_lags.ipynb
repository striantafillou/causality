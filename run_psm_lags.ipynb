{
 "cells": [
  {
   "cell_type": "code",
   "execution_count": 8,
   "metadata": {
    "collapsed": false,
    "scrolled": false
   },
   "outputs": [
    {
     "name": "stdout",
     "output_type": "stream",
     "text": [
      "0 1 2 3 4 5 6 7 8 9\n"
     ]
    }
   ],
   "source": [
    "import pickle\n",
    "import pandas as pd\n",
    "import numpy as np\n",
    "from psm_causal_effects import psm_causal_effects\n",
    "from extract_remove_nans import extract_remove_nans\n",
    "\n",
    "# read data\n",
    "with open('data.dat') as f:\n",
    "    data, subjects = pickle.load(f)\n",
    "f.close()\n",
    "\n",
    "n_boot = 10\n",
    "\n",
    "ind_set = range(len(data))\n",
    "\n",
    "es_m2s_mean = np.zeros([n_boot,4])\n",
    "es_s2m_mean = np.zeros([n_boot,4])\n",
    "es_s2m_um_mean = np.zeros([n_boot, 1])\n",
    "es_m2s_um_mean = np.zeros([n_boot, 1])\n",
    "    \n",
    "\n",
    "for k in range(n_boot):\n",
    "    \n",
    "    print k,\n",
    "    \n",
    "    inds = np.random.choice(ind_set, size=len(data), replace=True)\n",
    "\n",
    "    es_s2m = np.zeros([len(data),4])\n",
    "    es_m2s = np.zeros([len(data),4])\n",
    "    es_s2m_um = np.zeros([len(data), 1])\n",
    "    es_m2s_um = np.zeros([len(data), 1])\n",
    "    \n",
    "    for (c,i) in enumerate(inds):\n",
    "        \n",
    "       \n",
    "        # mood on sleep - lag 0 - unmatched\n",
    "        treatment = 'mood_prev'\n",
    "        outcome = 'quality'\n",
    "        data_s = extract_remove_nans(data[i], [treatment]+[outcome])\n",
    "        es_m2s_um[c] = psm_causal_effects(treatment=data_s[treatment], outcome=data_s[outcome], confound=[], scorefun='unmatched')\n",
    "        \n",
    "        # mood on sleep - lag 0\n",
    "        confound = ['mean_temp_prev2', 'clear_prev2', 'act_prev2','daytype','stress_prev2','energy_prev2','focus_prev2']\n",
    "        data_s = extract_remove_nans(data[i], [treatment]+[outcome]+confound)\n",
    "        es_m2s[c,0] = psm_causal_effects(treatment=data_s[treatment], outcome=data_s[outcome], confound=data_s[confound], scorefun='replacement')\n",
    "        \n",
    "        # mood on sleep - lag 1\n",
    "        confound = ['mean_temp_prev2', 'clear_prev2', 'act_prev2','daytype','stress_prev2','energy_prev2','focus_prev2','mood_prev2','quality_prev']\n",
    "        data_s = extract_remove_nans(data[i], [treatment]+[outcome]+confound)\n",
    "        es_m2s[c,1] = psm_causal_effects(treatment=data_s[treatment], outcome=data_s[outcome], confound=data_s[confound], scorefun='replacement')\n",
    "\n",
    "        # mood on sleep - lag 2\n",
    "        confound = ['mean_temp_prev2', 'clear_prev2', 'act_prev2','daytype','stress_prev2','energy_prev2','focus_prev2','mood_prev2','quality_prev','mood_prev3','quality_prev2']\n",
    "        data_s = extract_remove_nans(data[i], [treatment]+[outcome]+confound)\n",
    "        es_m2s[c,2] = psm_causal_effects(treatment=data_s[treatment], outcome=data_s[outcome], confound=data_s[confound], scorefun='replacement')\n",
    "\n",
    "        # mood on sleep - lag 3\n",
    "        confound = ['mean_temp_prev2', 'clear_prev2', 'act_prev2','daytype','stress_prev2','energy_prev2','focus_prev2','mood_prev2','quality_prev','mood_prev3','quality_prev2','mood_prev4','quality_prev3']\n",
    "        data_s = extract_remove_nans(data[i], [treatment]+[outcome]+confound)\n",
    "        es_m2s[c,3] = psm_causal_effects(treatment=data_s[treatment], outcome=data_s[outcome], confound=data_s[confound], scorefun='replacement')\n",
    "\n",
    "        ################ sleep on mood\n",
    "        \n",
    "        # sleep on mood - lag 0 - unmatched\n",
    "        treatment = 'quality'\n",
    "        outcome = 'mood'\n",
    "        data_s = extract_remove_nans(data[i], [treatment]+[outcome])\n",
    "        es_s2m_um[c] = psm_causal_effects(treatment=data_s[treatment], outcome=data_s[outcome], confound=[], scorefun='unmatched')\n",
    "        \n",
    "        # sleep on mood - lag 0\n",
    "        confound = ['mean_temp_prev', 'clear_prev', 'act_prev','daytype','stress_prev','energy_prev','focus_prev']\n",
    "        data_s = extract_remove_nans(data[i], [treatment]+[outcome]+confound)\n",
    "        es_s2m[c,0] = psm_causal_effects(treatment=data_s[treatment], outcome=data_s[outcome], confound=data_s[confound], scorefun='replacement')\n",
    "        \n",
    "        # sleep on mood - lag 1\n",
    "        confound = ['mean_temp_prev', 'clear_prev','act_prev','daytype','stress_prev','energy_prev','focus_prev','mood_prev','quality_prev']\n",
    "        data_s = extract_remove_nans(data[i], [treatment]+[outcome]+confound)\n",
    "        es_s2m[c,1] = psm_causal_effects(treatment=data_s[treatment], outcome=data_s[outcome], confound=data_s[confound], scorefun='replacement')\n",
    "        \n",
    "        # sleep on mood - lag 2\n",
    "        confound = ['mean_temp_prev', 'clear_prev','act_prev','daytype','stress_prev','energy_prev','focus_prev','mood_prev','quality_prev','mood_prev2','quality_prev2']\n",
    "        data_s = extract_remove_nans(data[i], [treatment]+[outcome]+confound)\n",
    "        es_s2m[c,2] = psm_causal_effects(treatment=data_s[treatment], outcome=data_s[outcome], confound=data_s[confound], scorefun='replacement')\n",
    "        \n",
    "        # sleep on mood - lag 3\n",
    "        confound = ['mean_temp_prev', 'clear_prev','act_prev','daytype','stress_prev','energy_prev','focus_prev','mood_prev','quality_prev','mood_prev2','quality_prev2','mood_prev3','quality_prev3']\n",
    "        data_s = extract_remove_nans(data[i], [treatment]+[outcome]+confound)\n",
    "        es_s2m[c,3] = psm_causal_effects(treatment=data_s[treatment], outcome=data_s[outcome], confound=data_s[confound], scorefun='replacement')\n",
    "        \n",
    "    es_m2s_mean[k,:] = np.nanmean(es_m2s, axis=0)\n",
    "    es_s2m_mean[k,:] = np.nanmean(es_s2m, axis=0)\n",
    "    es_m2s_um_mean[k] = np.nanmean(es_m2s_um, axis=0)\n",
    "    es_s2m_um_mean[k] = np.nanmean(es_s2m_um, axis=0)\n",
    "    \n"
   ]
  },
  {
   "cell_type": "code",
   "execution_count": 10,
   "metadata": {
    "collapsed": false
   },
   "outputs": [
    {
     "data": {
      "image/png": "[encoded data removed]",
      "text/plain": [
       "<matplotlib.figure.Figure at 0xc7d9d30>"
      ]
     },
     "metadata": {},
     "output_type": "display_data"
    }
   ],
   "source": [
    "import matplotlib.pyplot as plt\n",
    "%matplotlib inline\n",
    "plt.figure(figsize=(6,3))\n",
    "plt.barh([0.75,1.75,2.75,3.75,4.75],np.concatenate([np.array([np.mean(es_m2s_um_mean)]),np.mean(es_m2s_mean,axis=0)],axis=0).reshape([5,1]),xerr=np.array([\\\n",
    "    [np.mean(es_m2s_um_mean)-np.percentile(es_m2s_um_mean,2.5),np.percentile(es_m2s_um_mean,97.5)-np.mean(es_m2s_um_mean)],\\\n",
    "    [np.mean(es_m2s_mean[:,0])-np.percentile(es_m2s_mean[:,0],2.5),np.percentile(es_m2s_mean[:,0],97.5)-np.mean(es_m2s_mean[:,0])],\\\n",
    "    [np.mean(es_m2s_mean[:,1])-np.percentile(es_m2s_mean[:,1],2.5),np.percentile(es_m2s_mean[:,1],97.5)-np.mean(es_m2s_mean[:,1])],\\\n",
    "    [np.mean(es_m2s_mean[:,2])-np.percentile(es_m2s_mean[:,2],2.5),np.percentile(es_m2s_mean[:,2],97.5)-np.mean(es_m2s_mean[:,2])],\\\n",
    "    [np.mean(es_m2s_mean[:,3])-np.percentile(es_m2s_mean[:,3],2.5),np.percentile(es_m2s_mean[:,3],97.5)-np.mean(es_m2s_mean[:,3])]]).reshape(2,5),\\\n",
    "    ecolor=(0,0,0),height=.25,color=(.5,.5,1))\n",
    "plt.barh([1,2,3,4,5],np.concatenate([np.array([np.mean(es_s2m_um_mean)]),np.mean(es_s2m_mean,axis=0)],axis=0).reshape([5,1]),xerr=np.array([\\\n",
    "    [np.mean(es_s2m_um_mean)-np.percentile(es_s2m_um_mean,2.5),np.percentile(es_s2m_um_mean,97.5)-np.mean(es_s2m_um_mean)],\\\n",
    "    [np.mean(es_s2m_mean[:,0])-np.percentile(es_s2m_mean[:,0],2.5),np.percentile(es_s2m_mean[:,0],97.5)-np.mean(es_s2m_mean[:,0])],\\\n",
    "    [np.mean(es_s2m_mean[:,1])-np.percentile(es_s2m_mean[:,1],2.5),np.percentile(es_s2m_mean[:,1],97.5)-np.mean(es_s2m_mean[:,1])],\\\n",
    "    [np.mean(es_s2m_mean[:,2])-np.percentile(es_s2m_mean[:,2],2.5),np.percentile(es_s2m_mean[:,2],97.5)-np.mean(es_s2m_mean[:,2])],\\\n",
    "    [np.mean(es_s2m_mean[:,3])-np.percentile(es_s2m_mean[:,3],2.5),np.percentile(es_s2m_mean[:,3],97.5)-np.mean(es_s2m_mean[:,3])]]).reshape(2,5),\\\n",
    "    ecolor=(0,0,0),height=.25,color=(.5,1,.5))\n",
    "plt.xlim([0,1])\n",
    "plt.yticks([1,2,3,4,5],['unmatched', 'lag 0','lag 0,1','lag 0,1,2','lag 0,1,2,3'],rotation=0);\n",
    "plt.xlabel('Mean Personal Causal Effect')\n",
    "plt.legend(['Mood on Sleep Quality','Sleep Quality on Mood'],loc='upper right',bbox_to_anchor=(1.3, 1.05), fontsize=10);"
   ]
  },
  {
   "cell_type": "code",
   "execution_count": 2,
   "metadata": {
    "collapsed": false
   },
   "outputs": [
    {
     "data": {
      "image/png": "[encoded data removed]",
      "text/plain": [
       "<matplotlib.figure.Figure at 0xcbad530>"
      ]
     },
     "metadata": {},
     "output_type": "display_data"
    }
   ],
   "source": [
    "import matplotlib.pyplot as plt\n",
    "%matplotlib inline\n",
    "plt.figure(figsize=(6,3))\n",
    "plt.barh([0.75,1.75,2.75,3.75,4.75],np.concatenate([np.array([np.mean(es_m2s_um_mean)]),np.mean(es_m2s_mean,axis=0)],axis=0).reshape([5,1]),xerr=np.array([\\\n",
    "    [np.mean(es_m2s_um_mean)-np.percentile(es_m2s_um_mean,2.5),np.percentile(es_m2s_um_mean,97.5)-np.mean(es_m2s_um_mean)],\\\n",
    "    [np.mean(es_m2s_mean[:,0])-np.percentile(es_m2s_mean[:,0],2.5),np.percentile(es_m2s_mean[:,0],97.5)-np.mean(es_m2s_mean[:,0])],\\\n",
    "    [np.mean(es_m2s_mean[:,1])-np.percentile(es_m2s_mean[:,1],2.5),np.percentile(es_m2s_mean[:,1],97.5)-np.mean(es_m2s_mean[:,1])],\\\n",
    "    [np.mean(es_m2s_mean[:,2])-np.percentile(es_m2s_mean[:,2],2.5),np.percentile(es_m2s_mean[:,2],97.5)-np.mean(es_m2s_mean[:,2])],\\\n",
    "    [np.mean(es_m2s_mean[:,3])-np.percentile(es_m2s_mean[:,3],2.5),np.percentile(es_m2s_mean[:,3],97.5)-np.mean(es_m2s_mean[:,3])]]).reshape(2,5),\\\n",
    "    ecolor=(0,0,0),height=.25,color=(.5,.5,1))\n",
    "plt.barh([1,2,3,4,5],np.concatenate([np.array([np.mean(es_s2m_um_mean)]),np.mean(es_s2m_mean,axis=0)],axis=0).reshape([5,1]),xerr=np.array([\\\n",
    "    [np.mean(es_s2m_um_mean)-np.percentile(es_s2m_um_mean,2.5),np.percentile(es_s2m_um_mean,97.5)-np.mean(es_s2m_um_mean)],\\\n",
    "    [np.mean(es_s2m_mean[:,0])-np.percentile(es_s2m_mean[:,0],2.5),np.percentile(es_s2m_mean[:,0],97.5)-np.mean(es_s2m_mean[:,0])],\\\n",
    "    [np.mean(es_s2m_mean[:,1])-np.percentile(es_s2m_mean[:,1],2.5),np.percentile(es_s2m_mean[:,1],97.5)-np.mean(es_s2m_mean[:,1])],\\\n",
    "    [np.mean(es_s2m_mean[:,2])-np.percentile(es_s2m_mean[:,2],2.5),np.percentile(es_s2m_mean[:,2],97.5)-np.mean(es_s2m_mean[:,2])],\\\n",
    "    [np.mean(es_s2m_mean[:,3])-np.percentile(es_s2m_mean[:,3],2.5),np.percentile(es_s2m_mean[:,3],97.5)-np.mean(es_s2m_mean[:,3])]]).reshape(2,5),\\\n",
    "    ecolor=(0,0,0),height=.25,color=(.5,1,.5))\n",
    "plt.xlim([0,1])\n",
    "plt.yticks([1,2,3,4,5],['unmatched', 'lag 0','lag 0,1','lag 0,1,2','lag 0,1,2,3'],rotation=0);\n",
    "plt.xlabel('Mean Personal Causal Effect')\n",
    "plt.legend(['Mood on Sleep Quality','Sleep Quality on Mood'],loc='upper right',bbox_to_anchor=(1.3, 1.05), fontsize=10);"
   ]
  },
  {
   "cell_type": "code",
   "execution_count": null,
   "metadata": {
    "collapsed": false
   },
   "outputs": [],
   "source": [
    "np.concatenate([np.array([np.mean(es_m2s_um_mean)]),np.mean(es_m2s_mean,axis=0)],axis=0).reshape([5,1])"
   ]
  }
 ],
 "metadata": {
  "anaconda-cloud": {},
  "kernelspec": {
   "display_name": "Python [ana41py2dot7]",
   "language": "python",
   "name": "Python [ana41py2dot7]"
  },
  "language_info": {
   "codemirror_mode": {
    "name": "ipython",
    "version": 2
   },
   "file_extension": ".py",
   "mimetype": "text/x-python",
   "name": "python",
   "nbconvert_exporter": "python",
   "pygments_lexer": "ipython2",
   "version": "2.7.13"
  }
 },
 "nbformat": 4,
 "nbformat_minor": 1
}
