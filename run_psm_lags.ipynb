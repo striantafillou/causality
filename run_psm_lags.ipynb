{
 "cells": [
  {
   "cell_type": "code",
   "execution_count": 1,
   "metadata": {
    "scrolled": true
   },
   "outputs": [
    {
     "name": "stdout",
     "output_type": "stream",
     "text": [
      "0\n",
      "skipping subject 6 due to low variance in mood or sleep quality.\n",
      "skipping subject 8 due to low variance in mood or sleep quality.\n",
      "skipping subject 19 due to low variance in mood or sleep quality.\n",
      "skipping subject 21 due to low variance in mood or sleep quality.\n",
      "skipping subject 26 due to low variance in mood or sleep quality.\n"
     ]
    },
    {
     "name": "stderr",
     "output_type": "stream",
     "text": [
      "/usr/local/lib/python3.4/dist-packages/numpy/lib/nanfunctions.py:1423: RuntimeWarning: Degrees of freedom <= 0 for slice.\n",
      "  keepdims=keepdims)\n"
     ]
    },
    {
     "name": "stdout",
     "output_type": "stream",
     "text": [
      "skipping subject 42 due to low variance in mood or sleep quality.\n",
      "skipping subject 49 due to low variance in mood or sleep quality.\n",
      "skipping subject 57 due to low variance in mood or sleep quality.\n",
      "skipping subject 61 due to low variance in mood or sleep quality.\n",
      "skipping subject 64 due to low variance in mood or sleep quality.\n",
      "skipping subject 78 due to low variance in mood or sleep quality.\n",
      "skipping subject 93 due to low variance in mood or sleep quality.\n",
      "skipping subject 96 due to low variance in mood or sleep quality.\n",
      "skipping subject 114 due to low variance in mood or sleep quality.\n",
      "skipping subject 116 due to low variance in mood or sleep quality.\n",
      "skipping subject 135 due to low variance in mood or sleep quality.\n",
      "skipping subject 139 due to low variance in mood or sleep quality.\n",
      "skipping subject 153 due to low variance in mood or sleep quality.\n",
      "skipping subject 158 due to low variance in mood or sleep quality.\n",
      "skipping subject 173 due to low variance in mood or sleep quality.\n",
      "skipping subject 183 due to low variance in mood or sleep quality.\n",
      "skipping subject 195 due to low variance in mood or sleep quality.\n",
      "skipping subject 206 due to low variance in mood or sleep quality.\n"
     ]
    }
   ],
   "source": [
    "import pickle\n",
    "import pandas as pd\n",
    "import numpy as np\n",
    "from psm_causal_effects import psm_causal_effects\n",
    "from extract_remove_nans import extract_remove_nans\n",
    "\n",
    "# read data\n",
    "with open('data.dat','rb') as f:\n",
    "    data, subjects = pickle.load(f)\n",
    "f.close()\n",
    "\n",
    "n_boot = 1\n",
    "scorefunction = 'replacement'\n",
    "output = 'difference'\n",
    "var_threshold = 0.5\n",
    "\n",
    "ind_set = range(len(data))\n",
    "\n",
    "es_m2s_mean = np.zeros([n_boot,4])\n",
    "es_s2m_mean = np.zeros([n_boot,4])\n",
    "es_s2m_um_mean = np.zeros([n_boot, 1])\n",
    "es_m2s_um_mean = np.zeros([n_boot, 1])\n",
    "    \n",
    "\n",
    "for k in range(n_boot):\n",
    "    \n",
    "    print (k),\n",
    "    \n",
    "#     inds = np.random.choice(ind_set, size=len(data), replace=True)\n",
    "    inds = np.arange(0,len(data))\n",
    "\n",
    "    es_s2m = np.zeros([len(data),4])\n",
    "    es_m2s = np.zeros([len(data),4])\n",
    "    es_s2m_um = np.zeros([len(data), 1])\n",
    "    es_m2s_um = np.zeros([len(data), 1])\n",
    "    \n",
    "    for (c,i) in enumerate(inds):\n",
    "        \n",
    "        if np.nanstd(data[i]['mood'])<var_threshold or np.nanstd(data[i]['quality'])<var_threshold:\n",
    "            print('skipping subject '+str(i)+' due to low variance in mood or sleep quality.')\n",
    "            es_m2s_um[c] = np.nan\n",
    "            es_m2s[c,:] = np.nan\n",
    "            es_s2m_um[c] = np.nan\n",
    "            es_s2m[c,:] = np.nan\n",
    "            continue\n",
    "       \n",
    "        # mood on sleep - lag 0 - unmatched\n",
    "        treatment = 'mood_prev'\n",
    "        outcome = 'quality'\n",
    "        data_s = extract_remove_nans(data[i], [treatment]+[outcome])\n",
    "        es_m2s_um[c] = psm_causal_effects(treatment=data_s[treatment], outcome=data_s[outcome], confound=[], scorefun='unmatched', output=output)\n",
    "        \n",
    "        # mood on sleep - lag 0\n",
    "        confound = ['dow', 'mean_temp_prev2', 'clear_prev2', 'act_prev2','daytype','stress_prev2','energy_prev2','focus_prev2']\n",
    "        data_s = extract_remove_nans(data[i], [treatment]+[outcome]+confound)\n",
    "        es_m2s[c,0] = psm_causal_effects(treatment=data_s[treatment], outcome=data_s[outcome], confound=data_s[confound], scorefun=scorefunction, output=output)\n",
    "        \n",
    "        # mood on sleep - lag 1\n",
    "        confound = ['dow', 'mean_temp_prev2', 'clear_prev2', 'act_prev2','daytype','stress_prev2','energy_prev2','focus_prev2','mood_prev2','quality_prev']\n",
    "        data_s = extract_remove_nans(data[i], [treatment]+[outcome]+confound)\n",
    "        es_m2s[c,1] = psm_causal_effects(treatment=data_s[treatment], outcome=data_s[outcome], confound=data_s[confound], scorefun=scorefunction, output=output)\n",
    "\n",
    "        # mood on sleep - lag 2\n",
    "        confound = ['dow', 'mean_temp_prev2', 'clear_prev2', 'act_prev2','daytype','stress_prev2','energy_prev2','focus_prev2','mood_prev2','quality_prev','mood_prev3','quality_prev2']\n",
    "        data_s = extract_remove_nans(data[i], [treatment]+[outcome]+confound)\n",
    "        es_m2s[c,2] = psm_causal_effects(treatment=data_s[treatment], outcome=data_s[outcome], confound=data_s[confound], scorefun=scorefunction, output=output)\n",
    "\n",
    "        # mood on sleep - lag 3\n",
    "        confound = ['dow', 'mean_temp_prev2', 'clear_prev2', 'act_prev2','daytype','stress_prev2','energy_prev2','focus_prev2','mood_prev2','quality_prev','mood_prev3','quality_prev2','mood_prev4','quality_prev3']\n",
    "        data_s = extract_remove_nans(data[i], [treatment]+[outcome]+confound)\n",
    "        es_m2s[c,3] = psm_causal_effects(treatment=data_s[treatment], outcome=data_s[outcome], confound=data_s[confound], scorefun=scorefunction, output=output)\n",
    "\n",
    "        ################ sleep on mood\n",
    "        \n",
    "        # sleep on mood - lag 0 - unmatched\n",
    "        treatment = 'quality'\n",
    "        outcome = 'mood'\n",
    "        data_s = extract_remove_nans(data[i], [treatment]+[outcome])\n",
    "        es_s2m_um[c] = psm_causal_effects(treatment=data_s[treatment], outcome=data_s[outcome], confound=[], scorefun='unmatched', output=output)\n",
    "        \n",
    "        # sleep on mood - lag 0\n",
    "        confound = ['dow', 'mean_temp_prev', 'clear_prev', 'act_prev','daytype','stress_prev','energy_prev','focus_prev']\n",
    "        data_s = extract_remove_nans(data[i], [treatment]+[outcome]+confound)\n",
    "        es_s2m[c,0] = psm_causal_effects(treatment=data_s[treatment], outcome=data_s[outcome], confound=data_s[confound], scorefun=scorefunction, output=output)\n",
    "        \n",
    "        # sleep on mood - lag 1\n",
    "        confound = ['dow', 'mean_temp_prev', 'clear_prev','act_prev','daytype','stress_prev','energy_prev','focus_prev','mood_prev','quality_prev']\n",
    "        data_s = extract_remove_nans(data[i], [treatment]+[outcome]+confound)\n",
    "        es_s2m[c,1] = psm_causal_effects(treatment=data_s[treatment], outcome=data_s[outcome], confound=data_s[confound], scorefun=scorefunction, output=output)\n",
    "        \n",
    "        # sleep on mood - lag 2\n",
    "        confound = ['dow', 'mean_temp_prev', 'clear_prev','act_prev','daytype','stress_prev','energy_prev','focus_prev','mood_prev','quality_prev','mood_prev2','quality_prev2']\n",
    "        data_s = extract_remove_nans(data[i], [treatment]+[outcome]+confound)\n",
    "        es_s2m[c,2] = psm_causal_effects(treatment=data_s[treatment], outcome=data_s[outcome], confound=data_s[confound], scorefun=scorefunction, output=output)\n",
    "        \n",
    "        # sleep on mood - lag 3\n",
    "        confound = ['dow', 'mean_temp_prev', 'clear_prev','act_prev','daytype','stress_prev','energy_prev','focus_prev','mood_prev','quality_prev','mood_prev2','quality_prev2','mood_prev3','quality_prev3']\n",
    "        data_s = extract_remove_nans(data[i], [treatment]+[outcome]+confound)\n",
    "        es_s2m[c,3] = psm_causal_effects(treatment=data_s[treatment], outcome=data_s[outcome], confound=data_s[confound], scorefun=scorefunction, output=output)\n",
    "        \n",
    "    es_m2s_mean[k,:] = np.nanmean(es_m2s, axis=0)\n",
    "    es_s2m_mean[k,:] = np.nanmean(es_s2m, axis=0)\n",
    "    es_m2s_um_mean[k] = np.nanmean(es_m2s_um, axis=0)\n",
    "    es_s2m_um_mean[k] = np.nanmean(es_s2m_um, axis=0)\n",
    "    \n"
   ]
  },
  {
   "cell_type": "markdown",
   "metadata": {},
   "source": [
    "## Group Difference"
   ]
  },
  {
   "cell_type": "code",
   "execution_count": 1,
   "metadata": {},
   "outputs": [
    {
     "ename": "NameError",
     "evalue": "name 'es_m2s_um_mean' is not defined",
     "output_type": "error",
     "traceback": [
      "\u001b[0;31m---------------------------------------------------------------------------\u001b[0m",
      "\u001b[0;31mNameError\u001b[0m                                 Traceback (most recent call last)",
      "\u001b[0;32m<ipython-input-1-b5307998064b>\u001b[0m in \u001b[0;36m<module>\u001b[0;34m()\u001b[0m\n\u001b[1;32m      1\u001b[0m \u001b[0;31m## t-tests\u001b[0m\u001b[0;34m\u001b[0m\u001b[0;34m\u001b[0m\u001b[0m\n\u001b[1;32m      2\u001b[0m \u001b[0;32mfrom\u001b[0m \u001b[0mscipy\u001b[0m\u001b[0;34m.\u001b[0m\u001b[0mstats\u001b[0m \u001b[0;32mimport\u001b[0m \u001b[0mttest_ind\u001b[0m\u001b[0;34m\u001b[0m\u001b[0m\n\u001b[0;32m----> 3\u001b[0;31m \u001b[0mt\u001b[0m\u001b[0;34m,\u001b[0m\u001b[0mp\u001b[0m \u001b[0;34m=\u001b[0m \u001b[0mttest_ind\u001b[0m\u001b[0;34m(\u001b[0m\u001b[0mes_m2s_um_mean\u001b[0m\u001b[0;34m,\u001b[0m \u001b[0mes_s2m_um_mean\u001b[0m\u001b[0;34m,\u001b[0m \u001b[0mequal_var\u001b[0m\u001b[0;34m=\u001b[0m\u001b[0;32mFalse\u001b[0m\u001b[0;34m,\u001b[0m \u001b[0maxis\u001b[0m\u001b[0;34m=\u001b[0m\u001b[0;36m0\u001b[0m\u001b[0;34m)\u001b[0m\u001b[0;34m\u001b[0m\u001b[0m\n\u001b[0m\u001b[1;32m      4\u001b[0m \u001b[0mprint\u001b[0m\u001b[0;34m(\u001b[0m\u001b[0;34m'T,P = '\u001b[0m\u001b[0;34m,\u001b[0m\u001b[0mt\u001b[0m\u001b[0;34m,\u001b[0m\u001b[0mp\u001b[0m\u001b[0;34m)\u001b[0m\u001b[0;34m\u001b[0m\u001b[0m\n\u001b[1;32m      5\u001b[0m \u001b[0mt\u001b[0m\u001b[0;34m,\u001b[0m\u001b[0mp\u001b[0m \u001b[0;34m=\u001b[0m \u001b[0mttest_ind\u001b[0m\u001b[0;34m(\u001b[0m\u001b[0mes_m2s_mean\u001b[0m\u001b[0;34m[\u001b[0m\u001b[0;34m:\u001b[0m\u001b[0;34m,\u001b[0m\u001b[0;36m0\u001b[0m\u001b[0;34m]\u001b[0m\u001b[0;34m,\u001b[0m \u001b[0mes_s2m_mean\u001b[0m\u001b[0;34m[\u001b[0m\u001b[0;34m:\u001b[0m\u001b[0;34m,\u001b[0m\u001b[0;36m0\u001b[0m\u001b[0;34m]\u001b[0m\u001b[0;34m,\u001b[0m \u001b[0mequal_var\u001b[0m\u001b[0;34m=\u001b[0m\u001b[0;32mFalse\u001b[0m\u001b[0;34m)\u001b[0m\u001b[0;34m\u001b[0m\u001b[0m\n",
      "\u001b[0;31mNameError\u001b[0m: name 'es_m2s_um_mean' is not defined"
     ]
    }
   ],
   "source": [
    "## t-tests\n",
    "from scipy.stats import ttest_ind\n",
    "t,p = ttest_ind(es_m2s_um_mean, es_s2m_um_mean, equal_var=False, axis=0)\n",
    "print('T,P = ',t,p)\n",
    "t,p = ttest_ind(es_m2s_mean[:,0], es_s2m_mean[:,0], equal_var=False)\n",
    "print('T,P = ',t,p)\n",
    "t,p = ttest_ind(es_m2s_mean[:,1], es_s2m_mean[:,1], equal_var=False)\n",
    "print('T,P = ',t,p)\n",
    "t,p = ttest_ind(es_m2s_mean[:,2], es_s2m_mean[:,2], equal_var=False)\n",
    "print('T,P = ',t,p)\n",
    "t,p = ttest_ind(es_m2s_mean[:,3], es_s2m_mean[:,3], equal_var=False)\n",
    "print('T,P = ',t,p)"
   ]
  },
  {
   "cell_type": "code",
   "execution_count": 2,
   "metadata": {
    "scrolled": false
   },
   "outputs": [
    {
     "data": {
      "text/plain": [
       "[<matplotlib.lines.Line2D at 0x7efda7ae4be0>]"
      ]
     },
     "execution_count": 2,
     "metadata": {},
     "output_type": "execute_result"
    },
    {
     "data": {
      "image/png": "[encoded data removed]",
      "text/plain": [
       "<matplotlib.figure.Figure at 0x7efda7eb2908>"
      ]
     },
     "metadata": {},
     "output_type": "display_data"
    }
   ],
   "source": [
    "import matplotlib.pyplot as plt\n",
    "%matplotlib inline\n",
    "\n",
    "plt.figure(figsize=(8,6))\n",
    "yerrs = np.array([[np.mean(es_m2s_um_mean)-np.percentile(es_m2s_um_mean,2.5),np.mean(es_m2s_mean[:,0])-np.percentile(es_m2s_mean[:,0],2.5),\\\n",
    "    np.mean(es_m2s_mean[:,1])-np.percentile(es_m2s_mean[:,1],2.5),np.mean(es_m2s_mean[:,2])-np.percentile(es_m2s_mean[:,2],2.5),\\\n",
    "    np.mean(es_m2s_mean[:,3])-np.percentile(es_m2s_mean[:,3],2.5)],\\\n",
    "    [np.percentile(es_m2s_um_mean,97.5)-np.mean(es_m2s_um_mean),np.percentile(es_m2s_mean[:,0],97.5)-np.mean(es_m2s_mean[:,0]),\\\n",
    "    np.percentile(es_m2s_mean[:,1],97.5)-np.mean(es_m2s_mean[:,1]),np.percentile(es_m2s_mean[:,2],97.5)-np.mean(es_m2s_mean[:,2]),\\\n",
    "    np.percentile(es_m2s_mean[:,3],97.5)-np.mean(es_m2s_mean[:,3])]])\n",
    "plt.bar([-.25,1.75,2.75,3.75,4.75],np.concatenate([np.array([np.mean(es_m2s_um_mean)]),np.mean(es_m2s_mean,axis=0)],axis=0).reshape([5,1]),yerr=yerrs,\\\n",
    "    ecolor=(0,0,0),width=.25,color=(.5,.5,.8))\n",
    "yerrs = np.array([[np.mean(es_s2m_um_mean)-np.percentile(es_s2m_um_mean,2.5),np.mean(es_s2m_mean[:,0])-np.percentile(es_s2m_mean[:,0],2.5),\\\n",
    "    np.mean(es_s2m_mean[:,1])-np.percentile(es_s2m_mean[:,1],2.5),np.mean(es_s2m_mean[:,2])-np.percentile(es_s2m_mean[:,2],2.5),\\\n",
    "    np.mean(es_s2m_mean[:,3])-np.percentile(es_s2m_mean[:,3],2.5)],\\\n",
    "    [np.percentile(es_s2m_um_mean,97.5)-np.mean(es_s2m_um_mean),np.percentile(es_s2m_mean[:,0],97.5)-np.mean(es_s2m_mean[:,0]),\\\n",
    "    np.percentile(es_s2m_mean[:,1],97.5)-np.mean(es_s2m_mean[:,1]),np.percentile(es_s2m_mean[:,2],97.5)-np.mean(es_s2m_mean[:,2]),\\\n",
    "    np.percentile(es_s2m_mean[:,3],97.5)-np.mean(es_s2m_mean[:,3])]])\n",
    "plt.bar([0,2,3,4,5],np.concatenate([np.array([np.mean(es_s2m_um_mean)]),np.mean(es_s2m_mean,axis=0)],axis=0).reshape([5,1]),yerr=yerrs,\\\n",
    "    ecolor=(0,0,0),width=.25,color=(.5,.8,.5))\n",
    "plt.text(-.2, .75, '***', fontsize=14)\n",
    "plt.text(1.8, .70, '***', fontsize=14)\n",
    "plt.text(2.8, .72, '***', fontsize=14)\n",
    "plt.text(3.8, .74, '***', fontsize=14)\n",
    "plt.text(4.8, .84, '***', fontsize=14)\n",
    "a = plt.ylim([0,1])\n",
    "plt.xlim([-.5,5.5])\n",
    "plt.xticks([0,2,3,4,5],['unmatched', 'T=0','T=1','T=2','T=3'],rotation=0, fontsize=12);\n",
    "plt.ylabel('Mean Personal Causal Effect',fontsize=18)\n",
    "plt.xlabel('lags 0 to T',fontsize=18)\n",
    "plt.legend(['Mood on Sleep Quality','Sleep Quality on Mood'],loc='upper right',bbox_to_anchor=(.5, 1), fontsize=14);\n",
    "plt.plot([1,1],[a[0],a[1]],'--',color=(0,0,0))"
   ]
  },
  {
   "cell_type": "markdown",
   "metadata": {},
   "source": [
    "## Linear Output"
   ]
  },
  {
   "cell_type": "code",
   "execution_count": 11,
   "metadata": {},
   "outputs": [
    {
     "data": {
      "text/plain": [
       "[<matplotlib.lines.Line2D at 0x7f1072a419d0>]"
      ]
     },
     "execution_count": 11,
     "metadata": {},
     "output_type": "execute_result"
    },
    {
     "data": {
      "image/png": "[encoded data removed]",
      "text/plain": [
       "<matplotlib.figure.Figure at 0x7f106e637690>"
      ]
     },
     "metadata": {},
     "output_type": "display_data"
    }
   ],
   "source": [
    "import matplotlib.pyplot as plt\n",
    "%matplotlib inline\n",
    "\n",
    "plt.figure(figsize=(6,5))\n",
    "yerrs = np.array([[np.mean(es_m2s_um_mean)-np.percentile(es_m2s_um_mean,2.5),np.mean(es_m2s_mean[:,0])-np.percentile(es_m2s_mean[:,0],2.5),\\\n",
    "    np.mean(es_m2s_mean[:,1])-np.percentile(es_m2s_mean[:,1],2.5),np.mean(es_m2s_mean[:,2])-np.percentile(es_m2s_mean[:,2],2.5),\\\n",
    "    np.mean(es_m2s_mean[:,3])-np.percentile(es_m2s_mean[:,3],2.5)],\\\n",
    "    [np.percentile(es_m2s_um_mean,97.5)-np.mean(es_m2s_um_mean),np.percentile(es_m2s_mean[:,0],97.5)-np.mean(es_m2s_mean[:,0]),\\\n",
    "    np.percentile(es_m2s_mean[:,1],97.5)-np.mean(es_m2s_mean[:,1]),np.percentile(es_m2s_mean[:,2],97.5)-np.mean(es_m2s_mean[:,2]),\\\n",
    "    np.percentile(es_m2s_mean[:,3],97.5)-np.mean(es_m2s_mean[:,3])]])\n",
    "plt.bar([-.25,1.75,2.75,3.75,4.75],np.concatenate([np.array([np.mean(es_m2s_um_mean)]),np.mean(es_m2s_mean,axis=0)],axis=0).reshape([5,1]),yerr=yerrs,\\\n",
    "    ecolor=(0,0,0),width=.25,color=(.5,.5,.8))\n",
    "yerrs = np.array([[np.mean(es_s2m_um_mean)-np.percentile(es_s2m_um_mean,2.5),np.mean(es_s2m_mean[:,0])-np.percentile(es_s2m_mean[:,0],2.5),\\\n",
    "    np.mean(es_s2m_mean[:,1])-np.percentile(es_s2m_mean[:,1],2.5),np.mean(es_s2m_mean[:,2])-np.percentile(es_s2m_mean[:,2],2.5),\\\n",
    "    np.mean(es_s2m_mean[:,3])-np.percentile(es_s2m_mean[:,3],2.5)],\\\n",
    "    [np.percentile(es_s2m_um_mean,97.5)-np.mean(es_s2m_um_mean),np.percentile(es_s2m_mean[:,0],97.5)-np.mean(es_s2m_mean[:,0]),\\\n",
    "    np.percentile(es_s2m_mean[:,1],97.5)-np.mean(es_s2m_mean[:,1]),np.percentile(es_s2m_mean[:,2],97.5)-np.mean(es_s2m_mean[:,2]),\\\n",
    "    np.percentile(es_s2m_mean[:,3],97.5)-np.mean(es_s2m_mean[:,3])]])\n",
    "plt.bar([0,2,3,4,5],np.concatenate([np.array([np.mean(es_s2m_um_mean)]),np.mean(es_s2m_mean,axis=0)],axis=0).reshape([5,1]),yerr=yerrs,\\\n",
    "    ecolor=(0,0,0),width=.25,color=(.5,.8,.5))\n",
    "a = plt.ylim([-.1,1])\n",
    "plt.xlim([-.5,5.5])\n",
    "plt.xticks([0,2,3,4,5],['unmatched', 'T=0','T=1','T=2','T=3'],rotation=0);\n",
    "plt.ylabel('Mean Personal Slope',fontsize=14)\n",
    "plt.xlabel('lags 0 to T',fontsize=14)\n",
    "plt.legend(['Mood on Sleep Quality','Sleep Quality on Mood'],loc='upper right',bbox_to_anchor=(1, 1), fontsize=10);\n",
    "plt.plot([1,1],[a[0],a[1]],'--',color=(0,0,0))\n",
    "plt.plot([-.5,5.5],[0,0],':',color=(0,0,0))"
   ]
  },
  {
   "cell_type": "code",
   "execution_count": 11,
   "metadata": {},
   "outputs": [
    {
     "data": {
      "text/plain": [
       "(100, 4)"
      ]
     },
     "execution_count": 11,
     "metadata": {},
     "output_type": "execute_result"
    }
   ],
   "source": [
    "es_m2s_mean.shape"
   ]
  }
 ],
 "metadata": {
  "anaconda-cloud": {},
  "kernelspec": {
   "display_name": "Python 3",
   "language": "python",
   "name": "python3"
  },
  "language_info": {
   "codemirror_mode": {
    "name": "ipython",
    "version": 3
   },
   "file_extension": ".py",
   "mimetype": "text/x-python",
   "name": "python",
   "nbconvert_exporter": "python",
   "pygments_lexer": "ipython3",
   "version": "3.4.3"
  }
 },
 "nbformat": 4,
 "nbformat_minor": 1
}
