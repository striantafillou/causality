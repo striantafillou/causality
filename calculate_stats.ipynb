{
 "cells": [
  {
   "cell_type": "code",
   "execution_count": 16,
   "metadata": {
    "collapsed": false,
    "scrolled": true
   },
   "outputs": [
    {
     "name": "stdout",
     "output_type": "stream",
     "text": [
      "6 134\n",
      "5.01407035253 1.49552956157\n",
      "4.45888036971 1.83496572695\n"
     ]
    }
   ],
   "source": [
    "import statsmodels.api as sm\n",
    "import statsmodels.formula.api as smf\n",
    "import pickle\n",
    "import pandas as pd\n",
    "import numpy as np\n",
    "from psm_causal_effects import psm_causal_effects\n",
    "\n",
    "# read data\n",
    "with open('data.dat') as f:\n",
    "    data, subjects = pickle.load(f)\n",
    "f.close()\n",
    "\n",
    "dmax = 0\n",
    "dmin = 1000\n",
    "for i in range(len(data)):\n",
    "    nq = np.sum(~np.isnan(data[i]['quality']))\n",
    "    if nq>dmax:\n",
    "        dmax = nq\n",
    "    if nq<dmin and nq!=0:\n",
    "        dmin = nq\n",
    "        \n",
    "data_all = pd.concat(data,axis=0)\n",
    "data_all = data_all.reset_index(drop=True)\n",
    "\n",
    "print dmin, dmax\n",
    "print np.nanmean(data_all['mood']), np.nanstd(data_all['mood'])\n",
    "print np.nanmean(data_all['quality']), np.nanstd(data_all['quality'])"
   ]
  }
 ],
 "metadata": {
  "kernelspec": {
   "display_name": "Python 2",
   "language": "python",
   "name": "python2"
  },
  "language_info": {
   "codemirror_mode": {
    "name": "ipython",
    "version": 2
   },
   "file_extension": ".py",
   "mimetype": "text/x-python",
   "name": "python",
   "nbconvert_exporter": "python",
   "pygments_lexer": "ipython2",
   "version": "2.7.6"
  }
 },
 "nbformat": 4,
 "nbformat_minor": 1
}
