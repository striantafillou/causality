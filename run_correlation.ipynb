{
 "cells": [
  {
   "cell_type": "markdown",
   "metadata": {},
   "source": [
    "## Read Data"
   ]
  },
  {
   "cell_type": "code",
   "execution_count": 36,
   "metadata": {
    "collapsed": true
   },
   "outputs": [],
   "source": [
    "import statsmodels.api as sm \n",
    "import statsmodels.formula.api as smf\n",
    "import pickle\n",
    "import pandas as pd\n",
    "import numpy as np\n",
    "from psm_causal_effects import psm_causal_effects\n",
    "from copy import deepcopy\n",
    "\n",
    "# read data\n",
    "with open('data.dat', 'rb') as f:\n",
    "    data, subjects = pickle.load(f)\n",
    "f.close()\n",
    "\n",
    "with open('../CS120/Assessment/assessment.dat', 'rb') as f:\n",
    "    ass = pickle.load(f)\n",
    "f.close()\n",
    "\n"
   ]
  },
  {
   "cell_type": "code",
   "execution_count": 37,
   "metadata": {},
   "outputs": [],
   "source": [
    "mood = np.zeros(len(data))\n",
    "quality = np.zeros(len(data))\n",
    "phq = np.zeros(len(data))\n",
    "for i in range(len(data)):\n",
    "    mood[i] = np.nanmean(data[i]['mood'])\n",
    "    quality[i] = np.nanmean(data[i]['quality'])\n",
    "    ind = np.where(subjects[i]==ass['ID'])[0]\n",
    "    if ind:\n",
    "        phq[i] = ass.loc[ind,'PHQ9 W0']\n",
    "    else:\n",
    "        phq[i] = np.nan\n",
    "\n",
    "#remove nan rows\n",
    "ind_nan = []\n",
    "for i in range(mood.size):\n",
    "    if np.isnan(mood[i]) or np.isnan(phq[i]) or np.isnan(quality[i]):\n",
    "        ind_nan.append(i)\n",
    "phq = np.delete(phq, ind_nan)\n",
    "mood = np.delete(mood, ind_nan)\n",
    "quality = np.delete(quality, ind_nan)"
   ]
  },
  {
   "cell_type": "code",
   "execution_count": 31,
   "metadata": {},
   "outputs": [
    {
     "data": {
      "text/plain": [
       "array([[ 1.        , -0.43984157],\n",
       "       [-0.43984157,  1.        ]])"
      ]
     },
     "execution_count": 31,
     "metadata": {},
     "output_type": "execute_result"
    }
   ],
   "source": [
    "np.corrcoef(quality, phq, rowvar=False)"
   ]
  }
 ],
 "metadata": {
  "kernelspec": {
   "display_name": "Python 3",
   "language": "python",
   "name": "python3"
  },
  "language_info": {
   "codemirror_mode": {
    "name": "ipython",
    "version": 3
   },
   "file_extension": ".py",
   "mimetype": "text/x-python",
   "name": "python",
   "nbconvert_exporter": "python",
   "pygments_lexer": "ipython3",
   "version": "3.4.3"
  }
 },
 "nbformat": 4,
 "nbformat_minor": 2
}
