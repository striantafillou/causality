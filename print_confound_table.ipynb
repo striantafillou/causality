{
 "cells": [
  {
   "cell_type": "code",
   "execution_count": 10,
   "metadata": {
    "collapsed": true
   },
   "outputs": [],
   "source": [
    "import pickle\n",
    "import pandas as pd\n",
    "import numpy as np\n",
    "from psm_causal_effects import psm_causal_effects\n",
    "\n",
    "# read data\n",
    "with open('data.dat') as f:\n",
    "    data, subjects = pickle.load(f)\n",
    "f.close()\n",
    "\n"
   ]
  },
  {
   "cell_type": "code",
   "execution_count": 12,
   "metadata": {
    "collapsed": false
   },
   "outputs": [],
   "source": [
    "import scipy as scp\n",
    "\n",
    "#sleep on mood\n",
    "confound_names_s2m = ['dow', 'mean_temp_prev', 'clear_prev', 'act_prev','daytype','stress_prev','energy_prev','focus_prev']\n",
    "nSubj = len(data)\n",
    "s2m_corr = np.zeros((nSubj, len(confound_names_s2m)))\n",
    "s2m_pvals = np.zeros((nSubj, len(confound_names_s2m)))\n",
    "                     \n",
    "for i in range(nSubj):\n",
    "    treatment = np.array(data[i]['quality'])\n",
    "    confound = np.array(data[i][confound_names_s2m])\n",
    "    tnans  = np.isnan(treatment)\n",
    "    for j in range(confound.shape[1]):\n",
    "        nas = np.logical_or(tnans, np.isnan(confound[:, j]))\n",
    "        s2m_corr[i, j], s2m_pvals[i, j] = scp.stats.pearsonr(treatment[~nas], confound[~nas, j])\n",
    "\n",
    "#mood on sleep   \n",
    "confound_names_m2s = ['dow', 'mean_temp_prev2', 'clear_prev2', 'act_prev2','daytype','stress_prev2','energy_prev2','focus_prev2']\n",
    "m2s_corr = np.zeros((nSubj, len(confound_names_m2s)))\n",
    "m2s_pvals = np.zeros((nSubj, len(confound_names_m2s)))\n",
    "                     \n",
    "                     \n",
    "#i=0\n",
    "for i in range(nSubj):\n",
    "    treatment = np.array(data[i]['mood_prev'])\n",
    "    confound = np.array(data[i][confound_names_m2s])\n",
    "    tnans  = np.isnan(treatment)\n",
    "    for j in range(confound.shape[1]):\n",
    "        nas = np.logical_or(tnans, np.isnan(confound[:, j]))\n",
    "        m2s_corr[i, j], m2s_pvals[i, j] = scp.stats.pearsonr(treatment[~nas], confound[~nas, j])\n",
    "        \n",
    "        \n",
    "\n",
    "        \n"
   ]
  },
  {
   "cell_type": "code",
   "execution_count": 13,
   "metadata": {
    "collapsed": false
   },
   "outputs": [
    {
     "name": "stderr",
     "output_type": "stream",
     "text": [
      "C:\\Users\\Sofia\\Anaconda3\\envs\\ana41py2dot7\\lib\\site-packages\\ipykernel\\__main__.py:6: RuntimeWarning: invalid value encountered in less\n",
      "C:\\Users\\Sofia\\Anaconda3\\envs\\ana41py2dot7\\lib\\site-packages\\ipykernel\\__main__.py:15: RuntimeWarning: invalid value encountered in less\n"
     ]
    }
   ],
   "source": [
    "confound_names_s2m = ['day of the week', 'mean temperature (prev day)', 'clear sky (prev day)', 'activity (previous day)',\\\n",
    "                      'day type','stress (previous day)','energy (previous day)','focus (previous day)']\n",
    "\n",
    "\n",
    "s2m_mean = np.nanmean(s2m_corr, axis=0)\n",
    "s2m_std = np.nanstd(s2m_corr, axis=0)\n",
    "s2m_nsign = np.sum(s2m_pvals<0.05, axis=0)\n",
    "s2m_mat = np.vstack((s2m_mean, s2m_std, s2m_nsign)).T\n",
    "\n",
    "s2m_df = pd.DataFrame(data=s2m_mat, columns=['mean', 'std', '#p<0.05'],  index=confound_names_s2m)\n",
    "\n",
    "confound_names_m2s = ['day of the week', 'mean temperature (prev day)', 'clear sky (prev day)', 'activity (previous day)',\\\n",
    "                      'day type','stress (previous day)','energy (previous day)','focus (previous day)']\n",
    "\n",
    "m2s_mean = np.nanmean(m2s_corr, axis=0)\n",
    "m2s_std = np.nanstd(m2s_corr, axis=0)\n",
    "m2s_nsign = np.sum(m2s_pvals<0.05, axis=0)\n",
    "m2s_mat = np.vstack((m2s_mean, m2s_std, m2s_nsign)).T\n",
    "\n",
    "m2s_df = pd.DataFrame(data=m2s_mat, columns=['mean', 'std', '#p<0.05'],  index=confound_names_m2s)\n"
   ]
  },
  {
   "cell_type": "code",
   "execution_count": 14,
   "metadata": {
    "collapsed": false
   },
   "outputs": [
    {
     "data": {
      "text/html": [
       "<div>\n",
       "<table border=\"1\" class=\"dataframe\">\n",
       "  <thead>\n",
       "    <tr style=\"text-align: right;\">\n",
       "      <th></th>\n",
       "      <th>mean</th>\n",
       "      <th>std</th>\n",
       "      <th>#p&lt;0.05</th>\n",
       "    </tr>\n",
       "  </thead>\n",
       "  <tbody>\n",
       "    <tr>\n",
       "      <th>day of the week</th>\n",
       "      <td>0.058</td>\n",
       "      <td>0.170</td>\n",
       "      <td>20.0</td>\n",
       "    </tr>\n",
       "    <tr>\n",
       "      <th>mean temperature (prev day)</th>\n",
       "      <td>-0.019</td>\n",
       "      <td>0.195</td>\n",
       "      <td>25.0</td>\n",
       "    </tr>\n",
       "    <tr>\n",
       "      <th>clear sky (prev day)</th>\n",
       "      <td>0.003</td>\n",
       "      <td>0.192</td>\n",
       "      <td>17.0</td>\n",
       "    </tr>\n",
       "    <tr>\n",
       "      <th>activity (previous day)</th>\n",
       "      <td>0.018</td>\n",
       "      <td>0.189</td>\n",
       "      <td>15.0</td>\n",
       "    </tr>\n",
       "    <tr>\n",
       "      <th>day type</th>\n",
       "      <td>0.066</td>\n",
       "      <td>0.199</td>\n",
       "      <td>20.0</td>\n",
       "    </tr>\n",
       "    <tr>\n",
       "      <th>stress (previous day)</th>\n",
       "      <td>0.296</td>\n",
       "      <td>0.233</td>\n",
       "      <td>110.0</td>\n",
       "    </tr>\n",
       "    <tr>\n",
       "      <th>energy (previous day)</th>\n",
       "      <td>0.220</td>\n",
       "      <td>0.241</td>\n",
       "      <td>77.0</td>\n",
       "    </tr>\n",
       "    <tr>\n",
       "      <th>focus (previous day)</th>\n",
       "      <td>0.248</td>\n",
       "      <td>0.227</td>\n",
       "      <td>80.0</td>\n",
       "    </tr>\n",
       "  </tbody>\n",
       "</table>\n",
       "</div>"
      ],
      "text/plain": [
       "                              mean    std  #p<0.05\n",
       "day of the week              0.058  0.170     20.0\n",
       "mean temperature (prev day) -0.019  0.195     25.0\n",
       "clear sky (prev day)         0.003  0.192     17.0\n",
       "activity (previous day)      0.018  0.189     15.0\n",
       "day type                     0.066  0.199     20.0\n",
       "stress (previous day)        0.296  0.233    110.0\n",
       "energy (previous day)        0.220  0.241     77.0\n",
       "focus (previous day)         0.248  0.227     80.0"
      ]
     },
     "execution_count": 14,
     "metadata": {},
     "output_type": "execute_result"
    }
   ],
   "source": [
    "decimals = pd.Series([3, 3, 0], index=['mean', 'std', '#p<0.05'])\n",
    "m2s_df.round(decimals)\n"
   ]
  },
  {
   "cell_type": "code",
   "execution_count": 20,
   "metadata": {
    "collapsed": false
   },
   "outputs": [
    {
     "data": {
      "text/plain": [
       "0.21301241555773331"
      ]
     },
     "execution_count": 20,
     "metadata": {},
     "output_type": "execute_result"
    }
   ],
   "source": [
    "np.nanmedian(m2s_corr[:, 6])"
   ]
  },
  {
   "cell_type": "code",
   "execution_count": null,
   "metadata": {
    "collapsed": true
   },
   "outputs": [],
   "source": []
  }
 ],
 "metadata": {
  "kernelspec": {
   "display_name": "Python [ana41py2dot7]",
   "language": "python",
   "name": "Python [ana41py2dot7]"
  },
  "language_info": {
   "codemirror_mode": {
    "name": "ipython",
    "version": 2
   },
   "file_extension": ".py",
   "mimetype": "text/x-python",
   "name": "python",
   "nbconvert_exporter": "python",
   "pygments_lexer": "ipython2",
   "version": "2.7.13"
  }
 },
 "nbformat": 4,
 "nbformat_minor": 0
}
