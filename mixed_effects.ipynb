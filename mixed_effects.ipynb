{
 "cells": [
  {
   "cell_type": "code",
   "execution_count": 2,
   "metadata": {
    "scrolled": true
   },
   "outputs": [
    {
     "name": "stderr",
     "output_type": "stream",
     "text": [
      "/usr/local/lib/python3.4/dist-packages/ipykernel_launcher.py:23: RuntimeWarning: Mean of empty slice\n",
      "/usr/local/lib/python3.4/dist-packages/numpy/lib/nanfunctions.py:1423: RuntimeWarning: Degrees of freedom <= 0 for slice.\n",
      "  keepdims=keepdims)\n",
      "/usr/local/lib/python3.4/dist-packages/ipykernel_launcher.py:24: RuntimeWarning: Mean of empty slice\n",
      "/usr/local/lib/python3.4/dist-packages/ipykernel_launcher.py:25: RuntimeWarning: Mean of empty slice\n"
     ]
    }
   ],
   "source": [
    "import statsmodels.api as sm \n",
    "import statsmodels.formula.api as smf\n",
    "import pickle\n",
    "import pandas as pd\n",
    "import numpy as np\n",
    "from psm_causal_effects import psm_causal_effects\n",
    "from copy import deepcopy\n",
    "\n",
    "# read data\n",
    "with open('data.dat', 'rb') as f:\n",
    "    data, subjects = pickle.load(f)\n",
    "f.close()\n",
    "\n",
    "# adding subject ids\n",
    "for i in range(len(data)):\n",
    "    data[i]['subject'] = pd.Series(np.repeat(subjects[i],data[i].shape[0],axis=0), index=data[i].index, dtype=str)\n",
    "\n",
    "del subjects\n",
    "\n",
    "# within subject normalization\n",
    "datan = deepcopy(data)\n",
    "for i in range(len(data)):\n",
    "    datan[i]['mood'] = (data[i]['mood']-np.nanmean(data[i]['mood']))/np.nanstd(data[i]['mood'])\n",
    "    datan[i]['mood_prev'] = (data[i]['mood_prev']-np.nanmean(data[i]['mood_prev']))/np.nanstd(data[i]['mood_prev'])\n",
    "    datan[i]['quality'] = (data[i]['quality']-np.nanmean(data[i]['quality']))/np.nanstd(data[i]['quality'])\n",
    "    \n",
    "# concatenatig into a single dataframe\n",
    "data_all = pd.concat(data, axis=0)\n",
    "data_all = data_all.reset_index(drop=True)\n",
    "datan_all = pd.concat(datan, axis=0)\n",
    "datan_all = datan_all.reset_index(drop=True)\n",
    "\n",
    "# keeping only relevant variables\n",
    "data_all = data_all[['subject','mood','mood_prev','quality']]\n",
    "datan_all = datan_all[['subject','mood','mood_prev','quality']]\n",
    "\n",
    "# removing nan rows\n",
    "data_all = data_all.dropna()\n",
    "data_all = data_all.reset_index(drop=True)\n",
    "datan_all = datan_all.dropna()\n",
    "datan_all = datan_all.reset_index(drop=True)\n",
    "\n",
    "# load assessments\n",
    "with open('../CS120/Assessment/assessment.dat', 'rb') as f:\n",
    "    ass = pickle.load(f)\n",
    "f.close()"
   ]
  },
  {
   "cell_type": "markdown",
   "metadata": {},
   "source": [
    "### Calculating Personal Model Params"
   ]
  },
  {
   "cell_type": "code",
   "execution_count": null,
   "metadata": {
    "collapsed": true,
    "scrolled": true
   },
   "outputs": [],
   "source": [
    "# calculating personal model parameters\n",
    "\n",
    "betas_m2s = np.zeros([len(data),2])\n",
    "betas_s2m = np.zeros([len(data),2])\n",
    "for iSubj in range(len(data)):\n",
    "    if data[iSubj].shape[0] ==0:\n",
    "        betas_m2s[iSubj, :] = np.array([np.nan, np.nan])\n",
    "        betas_s2m[iSubj, :] = np.array([np.nan, np.nan])\n",
    "    else:\n",
    "        md = smf.glm('quality ~ mood_prev', data[iSubj])\n",
    "        mdf = md.fit()\n",
    "        betas_m2s[iSubj, :] = mdf.params\n",
    "        md = smf.glm('mood ~ quality', data[iSubj])\n",
    "        mdf = md.fit()\n",
    "        betas_s2m[iSubj, :] = mdf.params"
   ]
  },
  {
   "cell_type": "markdown",
   "metadata": {},
   "source": [
    "### Personal + Global (effect of mood on sleep)"
   ]
  },
  {
   "cell_type": "code",
   "execution_count": null,
   "metadata": {
    "collapsed": true,
    "scrolled": false
   },
   "outputs": [],
   "source": [
    "from scipy.stats.stats import pearsonr\n",
    "import matplotlib.pyplot as plt\n",
    "%matplotlib inline\n",
    "\n",
    "md = smf.glm('quality ~ mood_prev', data_all)\n",
    "mdf = md.fit()\n",
    "print(mdf.summary())\n",
    "print(pearsonr(data_all['mood_prev'],data_all['quality']))\n",
    "\n",
    "xmin= 0\n",
    "xmax = 8.2\n",
    "ymin = 0\n",
    "ymax = 8.2\n",
    "\n",
    "plt.figure(figsize=[8,8])\n",
    "for iSubj in range(len(data)):\n",
    "    plt.plot([xmin,xmax], [betas_m2s[iSubj, 0],betas_m2s[iSubj,0]+betas_m2s[iSubj,1]*xmax], linewidth=.3, alpha=.75)\n",
    "plt.plot([xmin,xmax], [mdf.params[0],mdf.params[0]+mdf.params[1]*xmax], color=(.2, .2,.2), linewidth=3, alpha=1)\n",
    "plt.plot(data_all['mood_prev']+0.075*np.random.randn(data_all.shape[0]),data_all['quality']+0.2*np.random.randn(data_all.shape[0]),'.',markersize=2,\\\n",
    "        color=(0,0,0),alpha=.3)\n",
    "plt.xlabel('Previous-day Mood',fontsize=18)\n",
    "plt.ylabel('Sleep Quality',fontsize=18)\n",
    "plt.xlim([xmin,xmax])\n",
    "plt.ylim([ymin,ymax])\n",
    "\n",
    "ax = plt.gca()\n",
    "ax.spines['left'].set_position('zero')\n",
    "# turn off the right spine/ticks\n",
    "ax.spines['right'].set_color('none')\n",
    "ax.yaxis.tick_left()\n",
    "# set the y-spine\n",
    "ax.spines['bottom'].set_position('zero')\n",
    "# turn off the top spine/ticks\n",
    "ax.spines['top'].set_color('none')\n",
    "ax.xaxis.tick_bottom()\n",
    "\n",
    "plt.xticks(np.arange(np.floor(xmin),np.ceil(xmax),2));\n",
    "plt.yticks(np.arange(np.floor(ymin),np.ceil(ymax),2));\n",
    "\n",
    "plt.text(xmax,ymax,'y = {:.2}x + {:.3}'.format(mdf.params[1],mdf.params[0]),fontsize=18)\n"
   ]
  },
  {
   "cell_type": "markdown",
   "metadata": {},
   "source": [
    "### Personal + Global (effect of sleep on mood)"
   ]
  },
  {
   "cell_type": "code",
   "execution_count": null,
   "metadata": {
    "collapsed": true,
    "scrolled": false
   },
   "outputs": [],
   "source": [
    "from scipy.stats.stats import pearsonr\n",
    "\n",
    "md = smf.glm('mood ~ quality', data_all)\n",
    "mdf = md.fit()\n",
    "print(mdf.summary())\n",
    "print(pearsonr(data_all['quality'],data_all['mood']))\n",
    "\n",
    "plt.figure(figsize=[8,8])\n",
    "for iSubj in range(len(data)):\n",
    "    plt.plot([0,8.2], [betas_s2m[iSubj, 0],betas_s2m[iSubj,0]+betas_s2m[iSubj,1]*8.2], linewidth=.3, alpha=.75)\n",
    "plt.plot([0,8.2], [mdf.params[0],mdf.params[0]+mdf.params[1]*8.2], color=(.2,.2,.2), linewidth=3)\n",
    "plt.plot(data_all['quality']+0.2*np.random.randn(data_all.shape[0]),data_all['mood']+0.075*np.random.randn(data_all.shape[0]),'.',markersize=2,\\\n",
    "        color=(0,0,0),alpha=.3)\n",
    "plt.xlabel('Sleep Quality',fontsize=18)\n",
    "plt.ylabel('Next-day Mood',fontsize=18)\n",
    "plt.xlim([0,8.2])\n",
    "plt.ylim([0,8.2])\n",
    "\n",
    "ax = plt.gca()\n",
    "ax.spines['left'].set_position('zero')\n",
    "# turn off the right spine/ticks\n",
    "ax.spines['right'].set_color('none')\n",
    "ax.yaxis.tick_left()\n",
    "# set the y-spine\n",
    "ax.spines['bottom'].set_position('zero')\n",
    "# turn off the top spine/ticks\n",
    "ax.spines['top'].set_color('none')\n",
    "ax.xaxis.tick_bottom()\n",
    "\n",
    "plt.xticks(np.arange(0,9,2));\n",
    "plt.yticks(np.arange(0,9,2));\n",
    "\n",
    "plt.text(8.3,6.8,'y = {:.2}x + {:.3}'.format(mdf.params[1],mdf.params[0]),fontsize=18)\n"
   ]
  },
  {
   "cell_type": "markdown",
   "metadata": {},
   "source": [
    "### Mixed Effects"
   ]
  },
  {
   "cell_type": "code",
   "execution_count": 3,
   "metadata": {
    "scrolled": true
   },
   "outputs": [
    {
     "name": "stderr",
     "output_type": "stream",
     "text": [
      "/usr/local/lib/python3.4/dist-packages/statsmodels/base/model.py:496: ConvergenceWarning: Maximum Likelihood optimization failed to converge. Check mle_retvals\n",
      "  \"Check mle_retvals\", ConvergenceWarning)\n",
      "/usr/local/lib/python3.4/dist-packages/statsmodels/base/model.py:496: ConvergenceWarning: Maximum Likelihood optimization failed to converge. Check mle_retvals\n",
      "  \"Check mle_retvals\", ConvergenceWarning)\n",
      "/usr/local/lib/python3.4/dist-packages/statsmodels/base/model.py:496: ConvergenceWarning: Maximum Likelihood optimization failed to converge. Check mle_retvals\n",
      "  \"Check mle_retvals\", ConvergenceWarning)\n",
      "/usr/local/lib/python3.4/dist-packages/statsmodels/base/model.py:496: ConvergenceWarning: Maximum Likelihood optimization failed to converge. Check mle_retvals\n",
      "  \"Check mle_retvals\", ConvergenceWarning)\n",
      "/usr/local/lib/python3.4/dist-packages/statsmodels/base/model.py:496: ConvergenceWarning: Maximum Likelihood optimization failed to converge. Check mle_retvals\n",
      "  \"Check mle_retvals\", ConvergenceWarning)\n",
      "/usr/local/lib/python3.4/dist-packages/statsmodels/regression/mixed_linear_model.py:2001: ConvergenceWarning: Gradient optimization failed.\n",
      "  warnings.warn(msg, ConvergenceWarning)\n",
      "/usr/local/lib/python3.4/dist-packages/statsmodels/regression/mixed_linear_model.py:2019: ConvergenceWarning: The MLE may be on the boundary of the parameter space.\n",
      "  warnings.warn(msg, ConvergenceWarning)\n",
      "/usr/local/lib/python3.4/dist-packages/statsmodels/regression/mixed_linear_model.py:2039: ConvergenceWarning: The Hessian matrix at the estimated parameter values is not positive definite.\n",
      "  warnings.warn(msg, ConvergenceWarning)\n",
      "/usr/local/lib/python3.4/dist-packages/statsmodels/base/model.py:1029: RuntimeWarning: invalid value encountered in sqrt\n",
      "  return np.sqrt(np.diag(self.cov_params()))\n"
     ]
    },
    {
     "name": "stdout",
     "output_type": "stream",
     "text": [
      "Effect of sleep quality on mood:\n",
      "               Mixed Linear Model Regression Results\n",
      "===================================================================\n",
      "Model:                MixedLM    Dependent Variable:    mood       \n",
      "No. Observations:     9126       Method:                REML       \n",
      "No. Groups:           206        Scale:                 0.8466     \n",
      "Min. group size:      4          Likelihood:            -12263.3514\n",
      "Max. group size:      133        Converged:             No         \n",
      "Mean group size:      44.3                                         \n",
      "-------------------------------------------------------------------\n",
      "                          Coef. Std.Err.   z    P>|z| [0.025 0.975]\n",
      "-------------------------------------------------------------------\n",
      "Intercept                 0.005    0.010  0.491 0.624 -0.014  0.024\n",
      "quality                   0.325    0.014 23.352 0.000  0.298  0.352\n",
      "Intercept RE              0.000                                    \n",
      "Intercept RE x quality RE 0.000    0.005                           \n",
      "quality RE                0.019    0.004                           \n",
      "===================================================================\n",
      "\n"
     ]
    },
    {
     "name": "stderr",
     "output_type": "stream",
     "text": [
      "/usr/local/lib/python3.4/dist-packages/statsmodels/base/model.py:496: ConvergenceWarning: Maximum Likelihood optimization failed to converge. Check mle_retvals\n",
      "  \"Check mle_retvals\", ConvergenceWarning)\n",
      "/usr/local/lib/python3.4/dist-packages/statsmodels/base/model.py:496: ConvergenceWarning: Maximum Likelihood optimization failed to converge. Check mle_retvals\n",
      "  \"Check mle_retvals\", ConvergenceWarning)\n",
      "/usr/local/lib/python3.4/dist-packages/statsmodels/base/model.py:496: ConvergenceWarning: Maximum Likelihood optimization failed to converge. Check mle_retvals\n",
      "  \"Check mle_retvals\", ConvergenceWarning)\n",
      "/usr/local/lib/python3.4/dist-packages/statsmodels/base/model.py:496: ConvergenceWarning: Maximum Likelihood optimization failed to converge. Check mle_retvals\n",
      "  \"Check mle_retvals\", ConvergenceWarning)\n",
      "/usr/local/lib/python3.4/dist-packages/statsmodels/base/model.py:496: ConvergenceWarning: Maximum Likelihood optimization failed to converge. Check mle_retvals\n",
      "  \"Check mle_retvals\", ConvergenceWarning)\n",
      "/usr/local/lib/python3.4/dist-packages/statsmodels/regression/mixed_linear_model.py:2001: ConvergenceWarning: Gradient optimization failed.\n",
      "  warnings.warn(msg, ConvergenceWarning)\n",
      "/usr/local/lib/python3.4/dist-packages/statsmodels/regression/mixed_linear_model.py:2019: ConvergenceWarning: The MLE may be on the boundary of the parameter space.\n",
      "  warnings.warn(msg, ConvergenceWarning)\n"
     ]
    },
    {
     "name": "stdout",
     "output_type": "stream",
     "text": [
      "Effect of mood on sleep quality:\n",
      "               Mixed Linear Model Regression Results\n",
      "====================================================================\n",
      "Model:                 MixedLM    Dependent Variable:    quality    \n",
      "No. Observations:      9126       Method:                REML       \n",
      "No. Groups:            206        Scale:                 0.9311     \n",
      "Min. group size:       4          Likelihood:            -12702.8509\n",
      "Max. group size:       133        Converged:             No         \n",
      "Mean group size:       44.3                                         \n",
      "--------------------------------------------------------------------\n",
      "                            Coef. Std.Err.   z   P>|z| [0.025 0.975]\n",
      "--------------------------------------------------------------------\n",
      "Intercept                   0.009    0.010 0.889 0.374 -0.011  0.029\n",
      "mood_prev                   0.133    0.015 8.993 0.000  0.104  0.162\n",
      "Intercept RE                0.000                                   \n",
      "Intercept RE x mood_prev RE 0.000    0.011                          \n",
      "mood_prev RE                0.022    0.005                          \n",
      "====================================================================\n",
      "\n"
     ]
    },
    {
     "name": "stderr",
     "output_type": "stream",
     "text": [
      "/usr/local/lib/python3.4/dist-packages/statsmodels/regression/mixed_linear_model.py:2039: ConvergenceWarning: The Hessian matrix at the estimated parameter values is not positive definite.\n",
      "  warnings.warn(msg, ConvergenceWarning)\n",
      "/usr/local/lib/python3.4/dist-packages/statsmodels/base/model.py:1029: RuntimeWarning: invalid value encountered in sqrt\n",
      "  return np.sqrt(np.diag(self.cov_params()))\n"
     ]
    }
   ],
   "source": [
    "# sleep on mood\n",
    "md = smf.mixedlm('mood ~ quality', datan_all, groups=datan_all['subject'], re_formula=\"~quality\")\n",
    "# md = smf.mixedlm('mood ~ quality', datan_all, groups=datan_all['subject'])\n",
    "mdf = md.fit(method='bfgs')\n",
    "print('Effect of sleep quality on mood:')\n",
    "print(mdf.summary())\n",
    "\n",
    "# mood on sleep\n",
    "md = smf.mixedlm('quality ~ mood_prev', datan_all, groups=datan_all['subject'], re_formula=\"~mood_prev\")\n",
    "# md = smf.mixedlm('quality ~ mood_prev', datan_all, groups=datan_all['subject'])\n",
    "mdf = md.fit(method='bfgs')\n",
    "print('Effect of mood on sleep quality:')\n",
    "print(mdf.summary())"
   ]
  },
  {
   "cell_type": "code",
   "execution_count": null,
   "metadata": {
    "collapsed": true
   },
   "outputs": [],
   "source": [
    "# significant difference between the slopes of the mixed models\n",
    "\n",
    "from scipy.stats import t\n",
    "\n",
    "n1= 206.0\n",
    "m1 = 0.383\n",
    "se1 = 0.073\n",
    "\n",
    "n2 = 206.0\n",
    "m2 = 0.254\n",
    "se2 = 0.019\n",
    "\n",
    "s1 = se1*np.sqrt(n1)\n",
    "s2 = se2*np.sqrt(n2)\n",
    "sp = np.sqrt(((n1-1)*s1*s1+(n2-1)*s2*s2)/(n1+n2-2))\n",
    "\n",
    "tstat = (m1-m2)/(sp*np.sqrt(1/n1+1/n2))\n",
    "df = n1+n2-2\n",
    "\n",
    "print('P = '+str(1-t.cdf(tstat, df)))"
   ]
  },
  {
   "cell_type": "markdown",
   "metadata": {},
   "source": [
    "### Didactics"
   ]
  },
  {
   "cell_type": "code",
   "execution_count": null,
   "metadata": {
    "collapsed": true
   },
   "outputs": [],
   "source": [
    "from psm_causal_effects import psm_causal_effects\n",
    "import matplotlib.pyplot as plt\n",
    "%matplotlib inline\n",
    "\n",
    "np.random.seed(seed=1)\n",
    "\n",
    "noise_amp_mood = 0.05#0.075\n",
    "noise_amp_quality = 0.15#0.2\n",
    "\n",
    "ind1 = 49#6\n",
    "ind2 = 149#100\n",
    "\n",
    "# removing nan rows\n",
    "data1 = data[ind1].dropna()\n",
    "data1 = data1.reset_index(drop=True)\n",
    "data2 = data[ind2].dropna()\n",
    "data2 = data2.reset_index(drop=True)\n",
    "\n",
    "#personal models\n",
    "plt.figure(figsize=[5,5])\n",
    "plt.plot([0,8], [betas_s2m[ind1, 0]+betas_s2m[ind1,1]*0,betas_s2m[ind1,0]+betas_s2m[ind1,1]*8], linewidth=1, alpha=1, color=(0,0,1), linestyle='-')\n",
    "plt.plot([0,8], [betas_s2m[ind2, 0]+betas_s2m[ind2,1]*0,betas_s2m[ind2,0]+betas_s2m[ind2,1]*8], linewidth=1, alpha=1, color=(1,0,0), linestyle='-')\n",
    "\n",
    "data_p  = pd.concat([data1, data2],axis=0)\n",
    "data_p = data_p[['subject','mood','quality']]\n",
    "\n",
    "#pooled regression\n",
    "md = smf.glm('mood ~ quality', data_p)\n",
    "mdf = md.fit()\n",
    "plt.plot([0,8], [mdf.params[0],mdf.params[0]+mdf.params[1]*8], color=(.2,.2,.2), linewidth=1, linestyle='-')\n",
    "print 'pooled beta = '+str(mdf.params[1])\n",
    "\n",
    "#mixed linear models regression\n",
    "md = smf.mixedlm('mood ~ quality', data_p, groups=data_p['subject'], re_formula=\"~quality\")\n",
    "mdf = md.fit() \n",
    "plt.plot([0,8], [mdf.params[0],mdf.params[0]+mdf.params[1]*8], color=(.2,.2,.2), linewidth=2, linestyle='--')\n",
    "print 'mixed beta = '+str(mdf.params[1])\n",
    "\n",
    "plt.xlabel('Sleep Quality', fontsize=14)\n",
    "plt.ylabel('Next-day Mood', fontsize=14)\n",
    "plt.xlim([0,8])\n",
    "plt.ylim([0,8])\n",
    "\n",
    "plt.legend(['Subject 1','Subject 2','Pooled','Mixed'],bbox_to_anchor=(1.2, .4))\n",
    "\n",
    "#noise vectors\n",
    "n_quality_1 = noise_amp_quality*np.random.randn(data1.shape[0])\n",
    "n_quality_2 = noise_amp_quality*np.random.randn(data2.shape[0])\n",
    "n_mood_1 = noise_amp_mood*np.random.randn(data1.shape[0])\n",
    "n_mood_2 = noise_amp_mood*np.random.randn(data2.shape[0])\n",
    "\n",
    "plt.plot(data1['quality']+n_quality_1,data1['mood']+n_mood_1,'.',markersize=5,\\\n",
    "        markeredgecolor =(0,0,1),alpha=.75,markerfacecolor=(0,0,1))\n",
    "\n",
    "plt.plot(data2['quality']+n_quality_2,data2['mood']+n_mood_2,'.',markersize=5,\\\n",
    "        markeredgecolor =(1,0,0),alpha=.75,markerfacecolor=(1,0,0))\n",
    "\n",
    "plt.ylim([0,8])\n",
    "plt.xlim([0,8])\n",
    "\n",
    "ax = plt.gca()\n",
    "ax.spines['left'].set_position('zero')\n",
    "# turn off the right spine/ticks\n",
    "ax.spines['right'].set_color('none')\n",
    "ax.yaxis.tick_left()\n",
    "# set the y-spine\n",
    "ax.spines['bottom'].set_position('zero')\n",
    "# turn off the top spine/ticks\n",
    "ax.spines['top'].set_color('none')\n",
    "ax.xaxis.tick_bottom()\n",
    "\n",
    "plt.xticks(np.arange(0,9,2));\n",
    "plt.yticks(np.arange(0,9,2));"
   ]
  },
  {
   "cell_type": "code",
   "execution_count": null,
   "metadata": {
    "collapsed": true
   },
   "outputs": [],
   "source": []
  }
 ],
 "metadata": {
  "kernelspec": {
   "display_name": "Python 3",
   "language": "python",
   "name": "python3"
  },
  "language_info": {
   "codemirror_mode": {
    "name": "ipython",
    "version": 3
   },
   "file_extension": ".py",
   "mimetype": "text/x-python",
   "name": "python",
   "nbconvert_exporter": "python",
   "pygments_lexer": "ipython3",
   "version": "3.4.3"
  }
 },
 "nbformat": 4,
 "nbformat_minor": 1
}
