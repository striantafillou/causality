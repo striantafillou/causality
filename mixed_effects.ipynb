{
 "cells": [
  {
   "cell_type": "code",
   "execution_count": 82,
   "metadata": {
    "collapsed": false,
    "scrolled": true
   },
   "outputs": [
    {
     "name": "stdout",
     "output_type": "stream",
     "text": [
      "25 subjects removed due to lack of data\n",
      "          Mixed Linear Model Regression Results\n",
      "========================================================\n",
      "Model:            MixedLM Dependent Variable: mood      \n",
      "No. Observations: 5984    Method:             REML      \n",
      "No. Groups:       183     Scale:              0.7463    \n",
      "Min. group size:  2       Likelihood:         -7941.4713\n",
      "Max. group size:  125     Converged:          Yes       \n",
      "Mean group size:  32.7                                  \n",
      "--------------------------------------------------------\n",
      "               Coef. Std.Err.   z    P>|z| [0.025 0.975]\n",
      "--------------------------------------------------------\n",
      "Intercept      3.895    0.080 48.747 0.000  3.738  4.051\n",
      "quality        0.261    0.009 29.808 0.000  0.243  0.278\n",
      "Intercept RE   0.855    0.110                           \n",
      "========================================================\n",
      "\n"
     ]
    }
   ],
   "source": [
    "import statsmodels.api as sm \n",
    "import statsmodels.formula.api as smf\n",
    "import pickle\n",
    "import pandas as pd\n",
    "import numpy as np\n",
    "from psm_causal_effects import psm_causal_effects\n",
    "\n",
    "# read data\n",
    "with open('data.dat') as f:\n",
    "    data = pickle.load(f)\n",
    "f.close()\n",
    "\n",
    "# removing nan rows\n",
    "for i in range(len(data)):\n",
    "    data[i] = data[i].dropna()\n",
    "    data[i] = data[i].reset_index(drop=True)\n",
    "\n",
    "# removing empty subjects\n",
    "ind_empty = []\n",
    "for i in range(len(data)):\n",
    "    if data[i].shape[0]==0:\n",
    "        ind_empty.append(i)\n",
    "data = [i for j, i in enumerate(data) if j not in ind_empty]\n",
    "print str(len(ind_empty))+' subjects removed due to lack of data'\n",
    "\n",
    "for i in range(len(data)):\n",
    "    data[i]['subject'] = pd.Series(i+np.zeros(data[i].shape[0]), index=data[i].index, dtype=int)\n",
    "\n",
    "# concatenatig into a single dataframe\n",
    "data = pd.concat(data, axis=0)\n",
    "data = data.reset_index(drop=True)\n",
    "\n",
    "# remove extra columns\n",
    "# data = data.loc[:,['subject','mood','quality']]\n",
    "data['mood'] = data['mood'].astype(float)\n",
    "data['mood_prev'] = data['mood_prev'].astype(float)\n",
    "data['quality'] = data['quality'].astype(float)\n",
    "\n",
    "md = smf.mixedlm('mood ~ quality', data, groups=data['subject'])\n",
    "mdf = md.fit() \n",
    "print(mdf.summary())\n"
   ]
  },
  {
   "cell_type": "code",
   "execution_count": 83,
   "metadata": {
    "collapsed": false,
    "scrolled": true
   },
   "outputs": [
    {
     "name": "stdout",
     "output_type": "stream",
     "text": [
      "          Mixed Linear Model Regression Results\n",
      "=========================================================\n",
      "Model:            MixedLM Dependent Variable: quality    \n",
      "No. Observations: 5984    Method:             REML       \n",
      "No. Groups:       183     Scale:              1.6411     \n",
      "Min. group size:  2       Likelihood:         -10249.2930\n",
      "Max. group size:  125     Converged:          Yes        \n",
      "Mean group size:  32.7                                   \n",
      "---------------------------------------------------------\n",
      "                Coef. Std.Err.   z    P>|z| [0.025 0.975]\n",
      "---------------------------------------------------------\n",
      "Intercept       3.157    0.121 26.097 0.000  2.920  3.395\n",
      "mood_prev       0.262    0.018 14.454 0.000  0.226  0.297\n",
      "Intercept RE    1.073    0.098                           \n",
      "=========================================================\n",
      "\n"
     ]
    }
   ],
   "source": [
    "md = smf.mixedlm('quality ~ mood_prev', data, groups=data['subject'])\n",
    "mdf = md.fit() \n",
    "print(mdf.summary())"
   ]
  },
  {
   "cell_type": "code",
   "execution_count": 60,
   "metadata": {
    "collapsed": false,
    "scrolled": false
   },
   "outputs": [
    {
     "name": "stdout",
     "output_type": "stream",
     "text": [
      "          Mixed Linear Model Regression Results\n",
      "========================================================\n",
      "Model:            MixedLM Dependent Variable: Weight    \n",
      "No. Observations: 861     Method:             REML      \n",
      "No. Groups:       72      Scale:              11.3668   \n",
      "Min. group size:  11      Likelihood:         -2404.7753\n",
      "Max. group size:  12      Converged:          Yes       \n",
      "Mean group size:  12.0                                  \n",
      "--------------------------------------------------------\n",
      "             Coef.  Std.Err.    z    P>|z| [0.025 0.975]\n",
      "--------------------------------------------------------\n",
      "Intercept    15.724    0.788  19.952 0.000 14.180 17.269\n",
      "Time          6.942    0.033 207.939 0.000  6.877  7.008\n",
      "Intercept RE 40.399    2.166                            \n",
      "========================================================\n",
      "\n"
     ]
    }
   ],
   "source": [
    "data = sm.datasets.get_rdataset('dietox', 'geepack').data\n",
    "md = smf.mixedlm('Weight ~ Time', data, groups=data['Pig'])\n",
    "mdf = md.fit() \n",
    "print(mdf.summary())"
   ]
  }
 ],
 "metadata": {
  "kernelspec": {
   "display_name": "Python 2",
   "language": "python",
   "name": "python2"
  },
  "language_info": {
   "codemirror_mode": {
    "name": "ipython",
    "version": 2
   },
   "file_extension": ".py",
   "mimetype": "text/x-python",
   "name": "python",
   "nbconvert_exporter": "python",
   "pygments_lexer": "ipython2",
   "version": "2.7.6"
  }
 },
 "nbformat": 4,
 "nbformat_minor": 1
}
