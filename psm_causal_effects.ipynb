{
 "cells": [
  {
   "cell_type": "code",
   "execution_count": null,
   "metadata": {
    "collapsed": true
   },
   "outputs": [],
   "source": [
    "import numpy as np\n",
    "from sklearn import linear_model\n",
    "\n",
    "def psm_causal_effects(treatment, outcome, confound, graph=0, scorefun='replacement', caliper=0.2):\n",
    "    \n",
    "    if treatment.size<20:\n",
    "#         print 'too few samples!'\n",
    "        return []\n",
    "\n",
    "    #binarizing the treatment\n",
    "    treatment = 0*(treatment < np.mean(treatment)) + 1*(treatment >= np.mean(treatment))\n",
    "\n",
    "    #fitting on confounds\n",
    "    model = linear_model.LogisticRegression()\n",
    "\n",
    "    model.fit(confound, treatment)\n",
    "\n",
    "    #prediction\n",
    "    pscore = model.predict_proba(confound)[:,1]\n",
    "\n",
    "    ind_case = np.where(treatment==1)[0]\n",
    "    ind_control = np.where(treatment==0)[0]\n",
    "\n",
    "    if scorefun=='unmatched':\n",
    "        \n",
    "        ind_matched_case = ind_case\n",
    "        ind_matched_control = ind_control\n",
    "    \n",
    "    else:\n",
    "    \n",
    "        ind_matched_case = np.array([],dtype=int)\n",
    "        ind_matched_control = np.array([],dtype=int)\n",
    "\n",
    "        for i_case in ind_case:\n",
    "\n",
    "            #finding closest match in control\n",
    "            diffs = abs(pscore[i_case]-pscore[ind_control])\n",
    "            ind = np.argmin(diffs)\n",
    "\n",
    "            #check if matches are close enough when no replacement\n",
    "            if scorefun=='noreplacement' and diffs[ind]>=caliper:\n",
    "                continue\n",
    "\n",
    "            ind_matched_control = np.append(ind_matched_control,ind_control[ind])\n",
    "            ind_matched_case = np.append(ind_matched_case,i_case)\n",
    "\n",
    "            # if without replacement remove the used sample\n",
    "            if scorefun=='noreplacement':\n",
    "                temp = list(ind_control)\n",
    "                if len(temp)>1:\n",
    "                    break\n",
    "                temp.remove(ind_control[ind])\n",
    "                ind_control = np.array(temp, dtype=int)\n",
    "\n",
    "    return np.mean(outcome[ind_matched_case])-np.mean(outcome[ind_matched_control])\n"
   ]
  }
 ],
 "metadata": {
  "kernelspec": {
   "display_name": "Python 2",
   "language": "python",
   "name": "python2"
  },
  "language_info": {
   "codemirror_mode": {
    "name": "ipython",
    "version": 2
   },
   "file_extension": ".py",
   "mimetype": "text/x-python",
   "name": "python",
   "nbconvert_exporter": "python",
   "pygments_lexer": "ipython2",
   "version": "2.7.6"
  }
 },
 "nbformat": 4,
 "nbformat_minor": 1
}
