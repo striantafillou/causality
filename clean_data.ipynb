{
 "cells": [
  {
   "cell_type": "code",
   "execution_count": 11,
   "metadata": {
    "collapsed": false
   },
   "outputs": [
    {
     "name": "stdout",
     "output_type": "stream",
     "text": [
      "25 subjects removed due to lack of data\n"
     ]
    }
   ],
   "source": [
    "import pickle\n",
    "import pandas as pd\n",
    "import numpy as np\n",
    "\n",
    "# read data\n",
    "with open('data.dat') as f:\n",
    "    data, subjects = pickle.load(f)\n",
    "f.close()\n",
    "\n",
    "# removing nan rows\n",
    "for i in range(len(data)):\n",
    "    data[i] = data[i].dropna()\n",
    "    data[i] = data[i].reset_index(drop=True)\n",
    "    \n",
    "# removing empty subjects\n",
    "ind_empty = []\n",
    "for i in range(len(data)):\n",
    "    if data[i].shape[0]==0:\n",
    "        ind_empty.append(i)\n",
    "data = [i for j, i in enumerate(data) if j not in ind_empty]\n",
    "subjects = [subj for i, subj in enumerate(subjects) if i not in ind_empty]\n",
    "print str(len(ind_empty))+' subjects removed due to lack of data'\n",
    "\n",
    "with open('data_clean.dat','w') as f:\n",
    "    pickle.dump([data, subjects], f)\n",
    "f.close()"
   ]
  }
 ],
 "metadata": {
  "kernelspec": {
   "display_name": "Python 2",
   "language": "python",
   "name": "python2"
  },
  "language_info": {
   "codemirror_mode": {
    "name": "ipython",
    "version": 2
   },
   "file_extension": ".py",
   "mimetype": "text/x-python",
   "name": "python",
   "nbconvert_exporter": "python",
   "pygments_lexer": "ipython2",
   "version": "2.7.6"
  }
 },
 "nbformat": 4,
 "nbformat_minor": 1
}
