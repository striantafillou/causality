{
 "cells": [
  {
   "cell_type": "code",
   "execution_count": 7,
   "metadata": {
    "collapsed": false
   },
   "outputs": [
    {
     "name": "stdout",
     "output_type": "stream",
     "text": [
      "25 subjects removed due to lack of data\n"
     ]
    }
   ],
   "source": [
    "import pickle\n",
    "import pandas as pd\n",
    "import numpy as np\n",
    "\n",
    "# read data\n",
    "with open('data.dat') as f:\n",
    "    data = pickle.load(f)\n",
    "f.close()\n",
    "\n",
    "# removing nan rows\n",
    "for i in range(len(data)):\n",
    "    data[i] = data[i].dropna()\n",
    "    data[i] = data[i].reset_index(drop=True)\n",
    "    \n",
    "# removing empty subjects\n",
    "ind_empty = []\n",
    "for i in range(len(data)):\n",
    "    if data[i].shape[0]==0:\n",
    "        ind_empty.append(i)\n",
    "data = [i for j, i in enumerate(data) if j not in ind_empty]\n",
    "print str(len(ind_empty))+' subjects removed due to lack of data'\n",
    "\n",
    "# convert daytype from str to int\n",
    "for i in range(len(data)):\n",
    "    ind = np.where(data[i]['daytype']=='normal')[0]\n",
    "    data[i].loc[ind,'daytype'] = 0\n",
    "    ind = np.where(data[i]['daytype']=='partial')[0]\n",
    "    data[i].loc[ind,'daytype'] = 1\n",
    "    ind = np.where(data[i]['daytype']=='off')[0]\n",
    "    data[i].loc[ind,'daytype'] = 2\n",
    "    ind = np.where(data[i]['daytype_prev']=='normal')[0]\n",
    "    data[i].loc[ind,'daytype_prev'] = 0\n",
    "    ind = np.where(data[i]['daytype_prev']=='partial')[0]\n",
    "    data[i].loc[ind,'daytype_prev'] = 1\n",
    "    ind = np.where(data[i]['daytype_prev']=='off')[0]\n",
    "    data[i].loc[ind,'daytype_prev'] = 2\n",
    "    \n",
    "with open('data_clean.dat','w') as f:\n",
    "    pickle.dump(data, f)\n",
    "f.close()"
   ]
  }
 ],
 "metadata": {
  "kernelspec": {
   "display_name": "Python 2",
   "language": "python",
   "name": "python2"
  },
  "language_info": {
   "codemirror_mode": {
    "name": "ipython",
    "version": 2
   },
   "file_extension": ".py",
   "mimetype": "text/x-python",
   "name": "python",
   "nbconvert_exporter": "python",
   "pygments_lexer": "ipython2",
   "version": "2.7.6"
  }
 },
 "nbformat": 4,
 "nbformat_minor": 1
}
