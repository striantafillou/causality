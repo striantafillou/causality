{
 "cells": [
  {
   "cell_type": "code",
   "execution_count": 72,
   "metadata": {
    "collapsed": false,
    "scrolled": true
   },
   "outputs": [
    {
     "name": "stdout",
     "output_type": "stream",
     "text": [
      "skipping subject 1374066\n",
      "skipping subject EW057DI\n",
      "skipping subject 1549226\n",
      "skipping subject 1428949\n",
      "skipping subject 872451\n",
      "skipping subject 1569370\n",
      "skipping subject 1128660\n",
      "skipping subject 1272711\n",
      "skipping subject 1336140\n",
      "skipping fold due to no variation in outcome\n",
      "skipping subject 1294671\n",
      "skipping subject 1334243\n",
      "skipping subject 1560782\n",
      "skipping subject 555220\n",
      "skipping subject 639010\n",
      "skipping subject 1230637\n"
     ]
    }
   ],
   "source": [
    "import numpy as np\n",
    "import pandas as pd\n",
    "import xgboost as xgb\n",
    "import pickle\n",
    "\n",
    "# params\n",
    "n_fold = 5\n",
    "# xvars = ['quality','dow', 'act_prev','daytype','stress_prev','energy_prev','focus_prev','mood_prev','quality_prev','mood_prev2','quality_prev2','mood_prev3','quality_prev3']\n",
    "xvars = ['quality','quality_prev','mood_prev']\n",
    "yvars = ['mood']\n",
    "\n",
    "# read data\n",
    "with open('data.dat') as f:\n",
    "    data, subjects = pickle.load(f)\n",
    "f.close()\n",
    "\n",
    "# concatenatig into a single dataframe\n",
    "data_all = pd.concat(data, axis=0)\n",
    "data_all = data_all.reset_index(drop=True)\n",
    "\n",
    "# data = data[:10]\n",
    "\n",
    "# personal analysis\n",
    "\n",
    "r2_train = np.array([])\n",
    "r2_test = np.array([])\n",
    "\n",
    "for i in range(len(data)):\n",
    "    \n",
    "    \n",
    "    data[i] = data[i][xvars+yvars]\n",
    "    data[i] = data[i].dropna()\n",
    "    data[i] = data[i].reset_index(drop=True)\n",
    "    \n",
    "    if data[i].shape[0]<20:\n",
    "        print 'skipping subject '+subjects[i]\n",
    "        continue\n",
    "    \n",
    "    x = data[i][xvars]\n",
    "    y = data[i][yvars]\n",
    "    \n",
    "    fold_size = np.floor(data[i].shape[0]/float(n_fold))\n",
    "    \n",
    "    r2_row_train = np.zeros([1,n_fold])\n",
    "    r2_row_test = np.zeros([1,n_fold])\n",
    "    \n",
    "    for j in range(n_fold):\n",
    "        \n",
    "        xtest = x.loc[j*fold_size:(j+1)*fold_size-1,:]\n",
    "        xtest = xtest.reset_index(drop=True)\n",
    "        ytest = y.loc[j*fold_size:(j+1)*fold_size-1]\n",
    "        ytest = ytest.reset_index(drop=True)\n",
    "        \n",
    "        xtrain = x.loc[0:j*fold_size-1,:]\n",
    "        xtrain = pd.concat([xtrain, x.loc[(j+1)*fold_size:,:]], axis=0)\n",
    "        xtrain = xtrain.reset_index(drop=True)\n",
    "\n",
    "        ytrain = y.loc[0:j*fold_size-1]\n",
    "        ytrain = pd.concat([ytrain, y.loc[(j+1)*fold_size:]], axis=0)\n",
    "        ytrain = ytrain.reset_index(drop=True)\n",
    "        \n",
    "        if np.var(np.array(ytrain))==0:\n",
    "            print 'skipping fold due to no variation in outcome'\n",
    "            r2_row_train[0,j] = np.nan\n",
    "            r2_row_test[0,j] = np.nan\n",
    "            continue\n",
    "        \n",
    "        gbm = xgb.XGBRegressor(max_depth=4, learning_rate=0.05, n_estimators=200, silent=True, objective='reg:linear', nthread=-1,\\\n",
    "                         gamma=0, min_child_weight=1, max_delta_step=0, subsample=1, colsample_bytree=1, colsample_bylevel=1,\\\n",
    "                         reg_alpha=0, reg_lambda=1, scale_pos_weight=1, base_score=0.5, seed=0, missing=None)\n",
    "        \n",
    "        gbm.fit(xtrain, ytrain, eval_set=[(xtrain,ytrain),(xtest, ytest)], eval_metric='rmse', verbose=False)\n",
    "        \n",
    "        # training performance\n",
    "        ypred_train = gbm.predict(xtrain).reshape(xtrain.shape[0],1)\n",
    "        r2_row_train[0,j] = 1 - (np.sum(np.power(ypred_train-np.array(ytrain),2))/\\\n",
    "                                 np.sum(np.power(np.mean(np.array(ytrain))-np.array(ytrain),2)))\n",
    "        \n",
    "        # test performance\n",
    "        ypred_test = gbm.predict(xtest).reshape(xtest.shape[0],1)\n",
    "        r2_row_test[0,j] = 1 - (np.sum(np.power(ypred_test-np.array(ytest),2))/\\\n",
    "                                np.sum(np.power(np.mean(np.array(ytrain))-np.array(ytest),2)))\n",
    "        \n",
    "    if r2_test.size==0:\n",
    "        r2_train = r2_row_train\n",
    "        r2_test = r2_row_test\n",
    "    else:\n",
    "        r2_train = np.append(r2_train, r2_row_train, axis=0)\n",
    "        r2_test = np.append(r2_test, r2_row_test, axis=0)\n",
    "        \n",
    "# mixed analysis\n",
    "\n"
   ]
  },
  {
   "cell_type": "code",
   "execution_count": 65,
   "metadata": {
    "collapsed": false
   },
   "outputs": [
    {
     "name": "stdout",
     "output_type": "stream",
     "text": [
      "training mean R2 = 0.273877323144\n",
      "test mean R2 = -0.130447550566\n"
     ]
    },
    {
     "data": {
      "text/plain": [
       "<matplotlib.legend.Legend at 0x7f1d9c6e72d0>"
      ]
     },
     "execution_count": 65,
     "metadata": {},
     "output_type": "execute_result"
    },
    {
     "data": {
      "image/png": "[encoded data removed]",
      "text/plain": [
       "<matplotlib.figure.Figure at 0x7f1d9bfbcf10>"
      ]
     },
     "metadata": {},
     "output_type": "display_data"
    }
   ],
   "source": [
    "import matplotlib.pyplot as plt\n",
    "%matplotlib inline\n",
    "\n",
    "print 'training mean R2 = {}'.format(np.nanmean(r2_train))\n",
    "print 'test mean R2 = {}'.format(np.nanmean(r2_test))\n",
    "\n",
    "bins = np.linspace(-3, 1, 100)\n",
    "plt.hist(r2_train.flatten(), bins, alpha=0.5, label='train');\n",
    "plt.hist(r2_test.flatten(), bins, alpha=0.5, label='test');\n",
    "plt.legend(loc='upper left')"
   ]
  },
  {
   "cell_type": "code",
   "execution_count": 82,
   "metadata": {
    "collapsed": false,
    "scrolled": false
   },
   "outputs": [
    {
     "name": "stdout",
     "output_type": "stream",
     "text": [
      "training mean R2 = 0.851012876406\n",
      "test mean R2 = -0.606042365809\n"
     ]
    },
    {
     "data": {
      "text/plain": [
       "<matplotlib.legend.Legend at 0x7f1d9c7cf110>"
      ]
     },
     "execution_count": 82,
     "metadata": {},
     "output_type": "execute_result"
    },
    {
     "data": {
      "image/png": "[encoded data removed]",
      "text/plain": [
       "<matplotlib.figure.Figure at 0x7f1d9bca1150>"
      ]
     },
     "metadata": {},
     "output_type": "display_data"
    }
   ],
   "source": [
    "import matplotlib.pyplot as plt\n",
    "%matplotlib inline\n",
    "\n",
    "print 'training mean R2 = {}'.format(np.nanmean(r2_train))\n",
    "print 'test mean R2 = {}'.format(np.nanmean(r2_test))\n",
    "\n",
    "bins = np.linspace(-3, 1, 100)\n",
    "plt.hist(r2_train.flatten()[~np.isnan(r2_train.flatten())], bins, alpha=0.5, label='train');\n",
    "plt.hist(r2_test.flatten()[~np.isnan(r2_test.flatten())], bins, alpha=0.5, label='test');\n",
    "plt.legend(loc='upper left')"
   ]
  }
 ],
 "metadata": {
  "kernelspec": {
   "display_name": "Python 2",
   "language": "python",
   "name": "python2"
  },
  "language_info": {
   "codemirror_mode": {
    "name": "ipython",
    "version": 2
   },
   "file_extension": ".py",
   "mimetype": "text/x-python",
   "name": "python",
   "nbconvert_exporter": "python",
   "pygments_lexer": "ipython2",
   "version": "2.7.6"
  }
 },
 "nbformat": 4,
 "nbformat_minor": 1
}
