{
 "cells": [
  {
   "cell_type": "code",
   "execution_count": 8,
   "metadata": {},
   "outputs": [
    {
     "name": "stderr",
     "output_type": "stream",
     "text": [
      "/usr/local/lib/python3.4/dist-packages/statsmodels/base/model.py:496: ConvergenceWarning: Maximum Likelihood optimization failed to converge. Check mle_retvals\n",
      "  \"Check mle_retvals\", ConvergenceWarning)\n",
      "/usr/local/lib/python3.4/dist-packages/statsmodels/base/model.py:496: ConvergenceWarning: Maximum Likelihood optimization failed to converge. Check mle_retvals\n",
      "  \"Check mle_retvals\", ConvergenceWarning)\n",
      "/usr/local/lib/python3.4/dist-packages/statsmodels/base/model.py:496: ConvergenceWarning: Maximum Likelihood optimization failed to converge. Check mle_retvals\n",
      "  \"Check mle_retvals\", ConvergenceWarning)\n",
      "/usr/local/lib/python3.4/dist-packages/statsmodels/base/model.py:496: ConvergenceWarning: Maximum Likelihood optimization failed to converge. Check mle_retvals\n",
      "  \"Check mle_retvals\", ConvergenceWarning)\n"
     ]
    },
    {
     "name": "stdout",
     "output_type": "stream",
     "text": [
      "            Mixed Linear Model Regression Results\n",
      "==============================================================\n",
      "Model:               MixedLM   Dependent Variable:   y        \n",
      "No. Observations:    200       Method:               REML     \n",
      "No. Groups:          2         Scale:                0.9680   \n",
      "Min. group size:     100       Likelihood:           -284.9919\n",
      "Max. group size:     100       Converged:            No       \n",
      "Mean group size:     100.0                                    \n",
      "--------------------------------------------------------------\n",
      "                    Coef.  Std.Err.   z    P>|z| [0.025 0.975]\n",
      "--------------------------------------------------------------\n",
      "Intercept           -0.057    0.148 -0.383 0.702 -0.346  0.233\n",
      "x                    2.620    0.497  5.272 0.000  1.646  3.594\n",
      "Intercept RE         0.034                                    \n",
      "Intercept RE x x RE  0.129                                    \n",
      "x RE                 0.486    0.498                           \n",
      "==============================================================\n",
      "\n"
     ]
    },
    {
     "name": "stderr",
     "output_type": "stream",
     "text": [
      "/usr/local/lib/python3.4/dist-packages/statsmodels/base/model.py:496: ConvergenceWarning: Maximum Likelihood optimization failed to converge. Check mle_retvals\n",
      "  \"Check mle_retvals\", ConvergenceWarning)\n",
      "/usr/local/lib/python3.4/dist-packages/statsmodels/regression/mixed_linear_model.py:2001: ConvergenceWarning: Gradient optimization failed.\n",
      "  warnings.warn(msg, ConvergenceWarning)\n",
      "/usr/local/lib/python3.4/dist-packages/statsmodels/regression/mixed_linear_model.py:2039: ConvergenceWarning: The Hessian matrix at the estimated parameter values is not positive definite.\n",
      "  warnings.warn(msg, ConvergenceWarning)\n",
      "/usr/local/lib/python3.4/dist-packages/statsmodels/base/model.py:1029: RuntimeWarning: invalid value encountered in sqrt\n",
      "  return np.sqrt(np.diag(self.cov_params()))\n"
     ]
    }
   ],
   "source": [
    "import statsmodels.formula.api as smf\n",
    "import pandas as pd\n",
    "import numpy as np\n",
    "from copy import deepcopy\n",
    "\n",
    "np.random.seed(seed=0)\n",
    "\n",
    "data1 = pd.DataFrame(columns=['x','y','id'])\n",
    "data2 = pd.DataFrame(columns=['x','y','id'])\n",
    "\n",
    "data1['x'] = np.random.normal(size=100)\n",
    "data1['y'] = deepcopy(data1['x'])*3 + np.random.normal(size=100)\n",
    "data1['id'] = np.ones(100)\n",
    "data2['x'] = np.random.normal(size=100)\n",
    "data2['y'] = deepcopy(data2['x'])*2 + np.random.normal(size=100)\n",
    "data2['id'] = np.ones(100)*2\n",
    "\n",
    "data = pd.concat([data1,data2])\n",
    "\n",
    "md = smf.mixedlm('y ~ x', data, groups=data['id'], re_formula=\"~x\")\n",
    "mdf = md.fit(method='bfgs')\n",
    "print(mdf.summary())\n"
   ]
  }
 ],
 "metadata": {
  "kernelspec": {
   "display_name": "Python 3",
   "language": "python",
   "name": "python3"
  },
  "language_info": {
   "codemirror_mode": {
    "name": "ipython",
    "version": 3
   },
   "file_extension": ".py",
   "mimetype": "text/x-python",
   "name": "python",
   "nbconvert_exporter": "python",
   "pygments_lexer": "ipython3",
   "version": "3.4.3"
  }
 },
 "nbformat": 4,
 "nbformat_minor": 2
}
