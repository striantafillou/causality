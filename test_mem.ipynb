{
 "cells": [
  {
   "cell_type": "code",
   "execution_count": 47,
   "metadata": {
    "scrolled": false
   },
   "outputs": [
    {
     "name": "stderr",
     "output_type": "stream",
     "text": [
      "/usr/local/lib/python3.4/dist-packages/statsmodels/regression/mixed_linear_model.py:2039: ConvergenceWarning: The Hessian matrix at the estimated parameter values is not positive definite.\n",
      "  warnings.warn(msg, ConvergenceWarning)\n",
      "/usr/local/lib/python3.4/dist-packages/statsmodels/base/model.py:1029: RuntimeWarning: invalid value encountered in sqrt\n",
      "  return np.sqrt(np.diag(self.cov_params()))\n"
     ]
    },
    {
     "name": "stdout",
     "output_type": "stream",
     "text": [
      "           Mixed Linear Model Regression Results\n",
      "============================================================\n",
      "Model:             MixedLM  Dependent Variable: y           \n",
      "No. Observations:  200000   Method:             REML        \n",
      "No. Groups:        2        Scale:              0.9974      \n",
      "Min. group size:   100000   Likelihood:         -283547.6974\n",
      "Max. group size:   100000   Converged:          Yes         \n",
      "Mean group size:   100000.0                                 \n",
      "------------------------------------------------------------\n",
      "                    Coef. Std.Err.   z   P>|z| [0.025 0.975]\n",
      "------------------------------------------------------------\n",
      "Intercept           0.005    0.706 0.007 0.994 -1.379  1.389\n",
      "x                   2.500    0.706 3.540 0.000  1.116  3.884\n",
      "Intercept RE        0.997                                   \n",
      "Intercept RE x x RE 0.000                                   \n",
      "x RE                0.997   18.916                          \n",
      "============================================================\n",
      "\n"
     ]
    }
   ],
   "source": [
    "import statsmodels.formula.api as smf\n",
    "import pandas as pd\n",
    "import numpy as np\n",
    "from copy import deepcopy\n",
    "\n",
    "np.random.seed(seed=0)\n",
    "n = 100000\n",
    "save_result = True\n",
    "\n",
    "data1 = pd.DataFrame(columns=['x','y','id'])\n",
    "data2 = pd.DataFrame(columns=['x','y','id'])\n",
    "\n",
    "data1['x'] = np.random.normal(size=n)\n",
    "data1['y'] = deepcopy(data1['x'])*3 + np.random.normal(size=n)\n",
    "data1['id'] = np.repeat(1,n)\n",
    "data2['x'] = np.random.normal(size=n)\n",
    "data2['y'] = deepcopy(data2['x'])*2 + np.random.normal(size=n)\n",
    "data2['id'] = np.repeat(2,n)\n",
    "\n",
    "data = pd.concat([data1,data2])\n",
    "data = data.reset_index(drop=True)\n",
    "\n",
    "md = smf.mixedlm('y ~ x', data, groups=data['id'], re_formula='~ x')\n",
    "mdf = md.fit()\n",
    "print(mdf.summary())\n",
    "\n",
    "if save_result:\n",
    "    data.to_csv('test_data.dat', sep=',')\n"
   ]
  },
  {
   "cell_type": "code",
   "execution_count": 39,
   "metadata": {},
   "outputs": [
    {
     "name": "stdout",
     "output_type": "stream",
     "text": [
      "[ -9.99989988e-01  -7.93223293e-05  -4.97206928e-01]\n"
     ]
    }
   ],
   "source": [
    "# gradients\n",
    "\n",
    "print(md.score(mdf.params_object))\n"
   ]
  },
  {
   "cell_type": "code",
   "execution_count": 9,
   "metadata": {},
   "outputs": [
    {
     "data": {
      "text/plain": [
       "'0.8.0'"
      ]
     },
     "execution_count": 9,
     "metadata": {},
     "output_type": "execute_result"
    }
   ],
   "source": [
    "import statsmodels\n",
    "statsmodels.version.full_version"
   ]
  }
 ],
 "metadata": {
  "kernelspec": {
   "display_name": "Python 3",
   "language": "python",
   "name": "python3"
  },
  "language_info": {
   "codemirror_mode": {
    "name": "ipython",
    "version": 3
   },
   "file_extension": ".py",
   "mimetype": "text/x-python",
   "name": "python",
   "nbconvert_exporter": "python",
   "pygments_lexer": "ipython3",
   "version": "3.4.3"
  }
 },
 "nbformat": 4,
 "nbformat_minor": 2
}
